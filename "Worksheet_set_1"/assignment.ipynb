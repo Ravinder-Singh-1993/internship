{
 "cells": [
  {
   "cell_type": "markdown",
   "id": "6d3bb0ea",
   "metadata": {},
   "source": [
    "# Question:  Write a python program to find the factorial of a number. "
   ]
  },
  {
   "cell_type": "code",
   "execution_count": 12,
   "id": "84623efa",
   "metadata": {},
   "outputs": [],
   "source": [
    "def factorial(x):                   #defining a function with name factorial\n",
    "    counter=1                             # using a=1 as counter to start calculation\n",
    "    for i in range(1,x+1):          # for loop for the iteration till the number entered\n",
    "        counter = counter*i                      # calculation \n",
    "    return counter                        # final output"
   ]
  },
  {
   "cell_type": "code",
   "execution_count": 21,
   "id": "50421929",
   "metadata": {},
   "outputs": [
    {
     "name": "stdout",
     "output_type": "stream",
     "text": [
      "ENTER THE NUMBER TO FIND THE FACTORIAL\n",
      "10\n"
     ]
    },
    {
     "data": {
      "text/plain": [
       "3628800"
      ]
     },
     "execution_count": 21,
     "metadata": {},
     "output_type": "execute_result"
    }
   ],
   "source": [
    "factorial(int(input(\"ENTER THE NUMBER TO FIND THE FACTORIAL\\n\")))         # calling the function"
   ]
  },
  {
   "cell_type": "markdown",
   "id": "873a941e",
   "metadata": {},
   "source": [
    "# Question : Write a python program to find whether a number is prime or composite. "
   ]
  },
  {
   "cell_type": "code",
   "execution_count": 15,
   "id": "4eb105e6",
   "metadata": {},
   "outputs": [],
   "source": [
    "def prime(number):\n",
    "    if number > 1:\n",
    "        # prime numbers and composite numbers starts from 2 onwards\n",
    "        for i in range(2, number//2):\n",
    "        # we don't need to check for each and every number,floor division will provide with the closest whole number\n",
    "            if (number % i) == 0:\n",
    "                print(number, \"is a Composite Number\")\n",
    "                break\n",
    "        else:\n",
    "                print(number, \"is a Prime Number\")\n",
    "\n",
    "# if the entered number is less than or equal to 1\n",
    "# then it is neither prime number nor composite\n",
    "    else:\n",
    "        print(number, \"Neither Prime Nor Composite\")\n"
   ]
  },
  {
   "cell_type": "code",
   "execution_count": 17,
   "id": "bf9b0c48",
   "metadata": {},
   "outputs": [
    {
     "name": "stdout",
     "output_type": "stream",
     "text": [
      "ENTER THE NUMBER\n",
      "13\n",
      "13 is a prime number\n"
     ]
    }
   ],
   "source": [
    "prime(int(input(\"ENTER THE NUMBER\\n\"))) "
   ]
  },
  {
   "cell_type": "markdown",
   "id": "342acd90",
   "metadata": {},
   "source": [
    "# Question Write a python program to check whether a given string is palindrome or not. \n",
    "\n",
    "\n"
   ]
  },
  {
   "cell_type": "code",
   "execution_count": 63,
   "id": "2c6bd663",
   "metadata": {},
   "outputs": [],
   "source": [
    "# TO SHOW PALINDROME THERE ARE 2 STEPS: 1. REVERSE THE STRING , 2.COMPARE THE REVERSE AND ORIGINAL NUMBER\n",
    "def palindrome(value):\n",
    "    \n",
    "    # REVERSE THE ENTERED STRING\n",
    "    reverse = value[::-1]\n",
    "    \n",
    "    # COMPARING BOTH VALUES\n",
    "    if(value == reverse):\n",
    "        print(value,\"is a Palindrome\")\n",
    "    \n",
    "    else:\n",
    "        print(value, \"is not a palindrome\")"
   ]
  },
  {
   "cell_type": "code",
   "execution_count": 64,
   "id": "400bd23f",
   "metadata": {},
   "outputs": [
    {
     "name": "stdout",
     "output_type": "stream",
     "text": [
      "ENTER THE STRING\n",
      "STATS\n",
      "STATS is a Palindrome\n"
     ]
    }
   ],
   "source": [
    "palindrome(str(input(\"ENTER THE STRING\\n\"))) "
   ]
  },
  {
   "cell_type": "markdown",
   "id": "4da66506",
   "metadata": {},
   "source": [
    "# Question: Write a Python program to get the third side of right-angled triangle from two given sides. \n"
   ]
  },
  {
   "cell_type": "code",
   "execution_count": 49,
   "id": "1334090e",
   "metadata": {},
   "outputs": [],
   "source": [
    "def PYTHAGORAS(B,P,H):\n",
    "    # CHECKING WHICH SIDE IS MISSING\n",
    "    if(B==str(\"X\") or B==str(\"x\")):\n",
    "        \n",
    "        ## PYTHAGORAS THEOREM\n",
    "        B=(((int(H)**2) -(int(P)**2))**0.5)\n",
    "        print(B,\"is the Base\")\n",
    "    \n",
    "    if(P==str(\"X\") or P==str(\"x\")):\n",
    "        \n",
    "        ## PYTHAGORAS THEOREM\n",
    "        P=(((int(H)**2) -(int(B)**2))**0.5)\n",
    "        print(P,\"is the Perpendicular\")\n",
    "       \n",
    "    if(H==str(\"X\") or H==str(\"x\")):\n",
    "        \n",
    "        ## PYTHAGORAS THEOREM\n",
    "        H=(((int(P)**2) +(int(B)**2))**0.5)\n",
    "        print(H,\"is the Hypotenuse\")\n",
    "        "
   ]
  },
  {
   "cell_type": "code",
   "execution_count": 55,
   "id": "9c5a017a",
   "metadata": {},
   "outputs": [
    {
     "name": "stdout",
     "output_type": "stream",
     "text": [
      "FOR ANY UNKNOWN SIDE ENTER THE VALUE AS X\n",
      "ENTER THE BASE OF THE TRIANGLE\n",
      "x\n",
      "ENTER THE PERPENDICULAR\n",
      "5\n",
      "ENTER THE HYPOTENUSE\n",
      "13\n",
      "12.0 is the Base\n"
     ]
    }
   ],
   "source": [
    "### FOR ANY UNKNOWN SIDE ENTER THE VALUE AS X\n",
    "print(\"FOR ANY UNKNOWN SIDE ENTER THE VALUE AS X\")\n",
    "PYTHAGORAS(str(input(\"ENTER THE BASE OF THE TRIANGLE\\n\")),\n",
    "          str(input(\"ENTER THE PERPENDICULAR\\n\")),\n",
    "          str(input(\"ENTER THE HYPOTENUSE\\n\"))) "
   ]
  },
  {
   "cell_type": "code",
   "execution_count": null,
   "id": "46c2e975",
   "metadata": {},
   "outputs": [],
   "source": []
  },
  {
   "cell_type": "markdown",
   "id": "a0768411",
   "metadata": {},
   "source": [
    "# Question: Write a python program to print the frequency of each of the characters present in a given string "
   ]
  },
  {
   "cell_type": "code",
   "execution_count": 60,
   "id": "7607ee09",
   "metadata": {},
   "outputs": [],
   "source": [
    "def freq(string):\n",
    "    # TAKING EMPTY SET \n",
    "    frequency = {}\n",
    "    \n",
    "    for i in string:\n",
    "        if i in frequency:\n",
    "            frequency[i] += 1                ### ADD 1 TO COUNT IF ALREADY EXISTS IN SETS\n",
    "        else:\n",
    "            frequency[i] = 1                 ### MAKE THE COUNT 1 IF NOT IN SET\n",
    "  ## printing result \n",
    "    print (\"Count of all characters in \",string,\" is :\\n \"\n",
    "                                        +  str(frequency))"
   ]
  },
  {
   "cell_type": "code",
   "execution_count": 62,
   "id": "5b5984b8",
   "metadata": {},
   "outputs": [
    {
     "name": "stdout",
     "output_type": "stream",
     "text": [
      "ENTER THE STRING\n",
      "RAVINDER SINGH\n",
      "Count of all characters in  RAVINDER SINGH  is :\n",
      " {'R': 2, 'A': 1, 'V': 1, 'I': 2, 'N': 2, 'D': 1, 'E': 1, ' ': 1, 'S': 1, 'G': 1, 'H': 1}\n"
     ]
    }
   ],
   "source": [
    "## CALLING THE FUNCTION , TAKING INPUT THROUGH INPUT BOX\n",
    "freq(str(input(\"ENTER THE STRING\\n\")))             "
   ]
  },
  {
   "cell_type": "code",
   "execution_count": null,
   "id": "fbee0e4f",
   "metadata": {},
   "outputs": [],
   "source": []
  }
 ],
 "metadata": {
  "kernelspec": {
   "display_name": "Python 3",
   "language": "python",
   "name": "python3"
  },
  "language_info": {
   "codemirror_mode": {
    "name": "ipython",
    "version": 3
   },
   "file_extension": ".py",
   "mimetype": "text/x-python",
   "name": "python",
   "nbconvert_exporter": "python",
   "pygments_lexer": "ipython3",
   "version": "3.8.8"
  }
 },
 "nbformat": 4,
 "nbformat_minor": 5
}
