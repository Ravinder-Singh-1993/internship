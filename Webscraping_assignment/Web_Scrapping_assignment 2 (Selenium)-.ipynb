{
 "cells": [
  {
   "cell_type": "code",
   "execution_count": 1,
   "id": "57765963",
   "metadata": {},
   "outputs": [],
   "source": [
    "import selenium\n",
    "import pandas as pd\n",
    "from selenium import webdriver\n",
    "import warnings\n",
    "warnings.filterwarnings('ignore')\n",
    "import time"
   ]
  },
  {
   "cell_type": "code",
   "execution_count": 76,
   "id": "5815116b",
   "metadata": {},
   "outputs": [],
   "source": [
    "driver=webdriver.Chrome(r\"F:\\chromedriver.exe\")"
   ]
  },
  {
   "cell_type": "code",
   "execution_count": 77,
   "id": "3f54bc3c",
   "metadata": {},
   "outputs": [],
   "source": [
    "driver.get('https://www.naukri.com/')"
   ]
  },
  {
   "cell_type": "code",
   "execution_count": 78,
   "id": "dfa468fb",
   "metadata": {},
   "outputs": [],
   "source": [
    "search_feild_designation=driver.find_element_by_class_name(\"suggestor-input\")\n",
    "search_feild_designation.send_keys(\"Data Analyst\")"
   ]
  },
  {
   "cell_type": "code",
   "execution_count": 79,
   "id": "a34eece3",
   "metadata": {},
   "outputs": [],
   "source": [
    "search_feild_location=driver.find_element_by_xpath('/html/body/div/div[2]/div[3]/div/div/div[5]/div/div/div[1]/input')\n",
    "search_feild_location.send_keys(\"Bangalore\")"
   ]
  },
  {
   "cell_type": "code",
   "execution_count": 80,
   "id": "bf62aa1a",
   "metadata": {},
   "outputs": [],
   "source": [
    "search_button=driver.find_element_by_xpath('/html/body/div/div[2]/div[3]/div/div/div[6]')\n",
    "search_button.click()"
   ]
  },
  {
   "cell_type": "code",
   "execution_count": 81,
   "id": "b42fe92a",
   "metadata": {},
   "outputs": [],
   "source": [
    "job_titles=[]\n",
    "company_names=[]\n",
    "locations_list=[]\n",
    "experience_list=[]"
   ]
  },
  {
   "cell_type": "code",
   "execution_count": 82,
   "id": "45b482d4",
   "metadata": {},
   "outputs": [],
   "source": [
    "titles_tag=driver.find_elements_by_xpath(\"//a[@class='title fw500 ellipsis']\")"
   ]
  },
  {
   "cell_type": "code",
   "execution_count": 83,
   "id": "0fe6b79e",
   "metadata": {},
   "outputs": [],
   "source": [
    "for i in titles_tag:\n",
    "    title=i.text\n",
    "    job_titles.append(title)"
   ]
  },
  {
   "cell_type": "code",
   "execution_count": 84,
   "id": "8d9008de",
   "metadata": {},
   "outputs": [],
   "source": [
    "company_tags=driver.find_elements_by_xpath(\"//a[@class='subTitle ellipsis fleft']\")"
   ]
  },
  {
   "cell_type": "code",
   "execution_count": 85,
   "id": "3892fc2c",
   "metadata": {},
   "outputs": [],
   "source": [
    "for i in company_tags:\n",
    "    x=i.text\n",
    "    company_names.append(x)"
   ]
  },
  {
   "cell_type": "code",
   "execution_count": 86,
   "id": "cc9eaff1",
   "metadata": {},
   "outputs": [],
   "source": [
    "experience=driver.find_elements_by_xpath(\"//li[@class='fleft grey-text br2 placeHolderLi experience']/span\")"
   ]
  },
  {
   "cell_type": "code",
   "execution_count": 87,
   "id": "4dc4da0f",
   "metadata": {},
   "outputs": [],
   "source": [
    "for i in experience:\n",
    "    x=i.text\n",
    "    experience_list.append(x)"
   ]
  },
  {
   "cell_type": "code",
   "execution_count": 88,
   "id": "5e381754",
   "metadata": {},
   "outputs": [],
   "source": [
    "locations=driver.find_elements_by_xpath(\"//li[@class='fleft grey-text br2 placeHolderLi location']/span\")"
   ]
  },
  {
   "cell_type": "code",
   "execution_count": 89,
   "id": "35f7900e",
   "metadata": {},
   "outputs": [],
   "source": [
    "for i in locations:\n",
    "    x=i.text\n",
    "    locations_list.append(x)"
   ]
  },
  {
   "cell_type": "code",
   "execution_count": 90,
   "id": "d809c734",
   "metadata": {},
   "outputs": [
    {
     "data": {
      "text/html": [
       "<div>\n",
       "<style scoped>\n",
       "    .dataframe tbody tr th:only-of-type {\n",
       "        vertical-align: middle;\n",
       "    }\n",
       "\n",
       "    .dataframe tbody tr th {\n",
       "        vertical-align: top;\n",
       "    }\n",
       "\n",
       "    .dataframe thead th {\n",
       "        text-align: right;\n",
       "    }\n",
       "</style>\n",
       "<table border=\"1\" class=\"dataframe\">\n",
       "  <thead>\n",
       "    <tr style=\"text-align: right;\">\n",
       "      <th></th>\n",
       "      <th>Unnamed: 0</th>\n",
       "      <th>Job Role</th>\n",
       "      <th>Company</th>\n",
       "      <th>Location</th>\n",
       "      <th>Experience</th>\n",
       "    </tr>\n",
       "  </thead>\n",
       "  <tbody>\n",
       "    <tr>\n",
       "      <th>0</th>\n",
       "      <td>0</td>\n",
       "      <td>Business Data Analyst</td>\n",
       "      <td>NXP Semiconductors</td>\n",
       "      <td>Bangalore/Bengaluru</td>\n",
       "      <td>2-5 Yrs</td>\n",
       "    </tr>\n",
       "    <tr>\n",
       "      <th>1</th>\n",
       "      <td>1</td>\n",
       "      <td>EY GDS Data Analyst-Finland based project</td>\n",
       "      <td>EY</td>\n",
       "      <td>Bangalore/Bengaluru</td>\n",
       "      <td>0-1 Yrs</td>\n",
       "    </tr>\n",
       "    <tr>\n",
       "      <th>2</th>\n",
       "      <td>2</td>\n",
       "      <td>Business &amp; Data Analyst - Alteryx (London)</td>\n",
       "      <td>Imaginative Brains LLP</td>\n",
       "      <td>Bangalore/Bengaluru, Delhi / NCR, Mumbai (All ...</td>\n",
       "      <td>5-10 Yrs</td>\n",
       "    </tr>\n",
       "    <tr>\n",
       "      <th>3</th>\n",
       "      <td>3</td>\n",
       "      <td>Data Analyst - Data and Analytics</td>\n",
       "      <td>Intel</td>\n",
       "      <td>Bangalore/Bengaluru</td>\n",
       "      <td>3-6 Yrs</td>\n",
       "    </tr>\n",
       "    <tr>\n",
       "      <th>4</th>\n",
       "      <td>4</td>\n",
       "      <td>Senior Mis Data Analyst</td>\n",
       "      <td>Barbeque Nation</td>\n",
       "      <td>Bangalore/Bengaluru(Sarjapur), Delhi / NCR, Mu...</td>\n",
       "      <td>5-8 Yrs</td>\n",
       "    </tr>\n",
       "    <tr>\n",
       "      <th>5</th>\n",
       "      <td>5</td>\n",
       "      <td>Junior Data Analyst/ Scientist- Fresher Position</td>\n",
       "      <td>Sejal Consulting Hub</td>\n",
       "      <td>Remote</td>\n",
       "      <td>0-3 Yrs</td>\n",
       "    </tr>\n",
       "    <tr>\n",
       "      <th>6</th>\n",
       "      <td>6</td>\n",
       "      <td>Senior Data Analyst</td>\n",
       "      <td>Flipkart</td>\n",
       "      <td>Bangalore/Bengaluru</td>\n",
       "      <td>3-7 Yrs</td>\n",
       "    </tr>\n",
       "    <tr>\n",
       "      <th>7</th>\n",
       "      <td>7</td>\n",
       "      <td>Senior Data Analyst</td>\n",
       "      <td>Walmart</td>\n",
       "      <td>Bangalore/Bengaluru</td>\n",
       "      <td>4-7 Yrs</td>\n",
       "    </tr>\n",
       "    <tr>\n",
       "      <th>8</th>\n",
       "      <td>8</td>\n",
       "      <td>Data Analyst - Data Science, 3 To 5 Years</td>\n",
       "      <td>Rise Finconnect Private Limited</td>\n",
       "      <td>Bangalore/Bengaluru</td>\n",
       "      <td>2-6 Yrs</td>\n",
       "    </tr>\n",
       "    <tr>\n",
       "      <th>9</th>\n",
       "      <td>9</td>\n",
       "      <td>Data Analyst / Business Analyst</td>\n",
       "      <td>METRO Cash &amp; Carry</td>\n",
       "      <td>Bangalore/Bengaluru</td>\n",
       "      <td>3-8 Yrs</td>\n",
       "    </tr>\n",
       "  </tbody>\n",
       "</table>\n",
       "</div>"
      ],
      "text/plain": [
       "   Unnamed: 0                                          Job Role  \\\n",
       "0           0                             Business Data Analyst   \n",
       "1           1         EY GDS Data Analyst-Finland based project   \n",
       "2           2        Business & Data Analyst - Alteryx (London)   \n",
       "3           3                 Data Analyst - Data and Analytics   \n",
       "4           4                           Senior Mis Data Analyst   \n",
       "5           5  Junior Data Analyst/ Scientist- Fresher Position   \n",
       "6           6                               Senior Data Analyst   \n",
       "7           7                               Senior Data Analyst   \n",
       "8           8         Data Analyst - Data Science, 3 To 5 Years   \n",
       "9           9                   Data Analyst / Business Analyst   \n",
       "\n",
       "                           Company  \\\n",
       "0               NXP Semiconductors   \n",
       "1                               EY   \n",
       "2           Imaginative Brains LLP   \n",
       "3                            Intel   \n",
       "4                  Barbeque Nation   \n",
       "5             Sejal Consulting Hub   \n",
       "6                         Flipkart   \n",
       "7                          Walmart   \n",
       "8  Rise Finconnect Private Limited   \n",
       "9               METRO Cash & Carry   \n",
       "\n",
       "                                            Location Experience  \n",
       "0                                Bangalore/Bengaluru    2-5 Yrs  \n",
       "1                                Bangalore/Bengaluru    0-1 Yrs  \n",
       "2  Bangalore/Bengaluru, Delhi / NCR, Mumbai (All ...   5-10 Yrs  \n",
       "3                                Bangalore/Bengaluru    3-6 Yrs  \n",
       "4  Bangalore/Bengaluru(Sarjapur), Delhi / NCR, Mu...    5-8 Yrs  \n",
       "5                                             Remote    0-3 Yrs  \n",
       "6                                Bangalore/Bengaluru    3-7 Yrs  \n",
       "7                                Bangalore/Bengaluru    4-7 Yrs  \n",
       "8                                Bangalore/Bengaluru    2-6 Yrs  \n",
       "9                                Bangalore/Bengaluru    3-8 Yrs  "
      ]
     },
     "execution_count": 90,
     "metadata": {},
     "output_type": "execute_result"
    }
   ],
   "source": [
    "\n",
    "zipped = list(zip(job_titles[0:10],company_names[0:10],locations_list[0:10],experience_list[0:10]))\n",
    "df = pd.DataFrame(zipped, columns=['Job Role', 'Company', 'Location','Experience'])\n",
    "df.to_csv('jobs.csv')\n",
    "\n",
    "Jobs=pd.read_csv(\"jobs.csv\")\n",
    "\n",
    "Jobs"
   ]
  },
  {
   "cell_type": "code",
   "execution_count": 91,
   "id": "bbadb18d",
   "metadata": {},
   "outputs": [],
   "source": [
    "driver.close()"
   ]
  },
  {
   "cell_type": "code",
   "execution_count": null,
   "id": "cc47c668",
   "metadata": {},
   "outputs": [],
   "source": [
    "# next question"
   ]
  },
  {
   "cell_type": "code",
   "execution_count": 92,
   "id": "822aac71",
   "metadata": {},
   "outputs": [],
   "source": [
    "### Question 2"
   ]
  },
  {
   "cell_type": "code",
   "execution_count": 93,
   "id": "cd1799d1",
   "metadata": {},
   "outputs": [],
   "source": [
    "driver=webdriver.Chrome(r\"F:\\chromedriver.exe\")"
   ]
  },
  {
   "cell_type": "code",
   "execution_count": 94,
   "id": "bf293dda",
   "metadata": {},
   "outputs": [],
   "source": [
    "driver.get('https://www.naukri.com/')"
   ]
  },
  {
   "cell_type": "code",
   "execution_count": 95,
   "id": "5dccae79",
   "metadata": {},
   "outputs": [],
   "source": [
    "search_feild_designation=driver.find_element_by_class_name(\"suggestor-input\")\n",
    "search_feild_designation.send_keys(\"Data Scientist\")"
   ]
  },
  {
   "cell_type": "code",
   "execution_count": 96,
   "id": "6d965965",
   "metadata": {},
   "outputs": [],
   "source": [
    "search_feild_location=driver.find_element_by_xpath('/html/body/div/div[2]/div[3]/div/div/div[5]/div/div/div[1]/input')\n",
    "search_feild_location.send_keys(\"Bangalore\")"
   ]
  },
  {
   "cell_type": "code",
   "execution_count": 97,
   "id": "6dc00970",
   "metadata": {},
   "outputs": [],
   "source": [
    "search_button=driver.find_element_by_xpath('/html/body/div/div[2]/div[3]/div/div/div[6]')\n",
    "search_button.click()"
   ]
  },
  {
   "cell_type": "code",
   "execution_count": 104,
   "id": "d94bc81e",
   "metadata": {},
   "outputs": [],
   "source": [
    "job=[]\n",
    "company=[]\n",
    "location=[]\n",
    "experience=[]"
   ]
  },
  {
   "cell_type": "code",
   "execution_count": 105,
   "id": "6a59ed3a",
   "metadata": {},
   "outputs": [],
   "source": [
    "titles_tag=driver.find_elements_by_xpath(\"//a[@class='title fw500 ellipsis']\")\n",
    "for i in titles_tag:\n",
    "    title=i.text\n",
    "    job.append(title)"
   ]
  },
  {
   "cell_type": "code",
   "execution_count": 106,
   "id": "174a0ede",
   "metadata": {},
   "outputs": [],
   "source": [
    "company_tags=driver.find_elements_by_xpath(\"//a[@class='subTitle ellipsis fleft']\")\n",
    "for i in company_tags:\n",
    "    x=i.text\n",
    "    company.append(x)"
   ]
  },
  {
   "cell_type": "code",
   "execution_count": 107,
   "id": "8d385548",
   "metadata": {},
   "outputs": [],
   "source": [
    "experience_tag=driver.find_elements_by_xpath(\"//li[@class='fleft grey-text br2 placeHolderLi experience']/span\")\n",
    "for i in experience_tag:\n",
    "    x=i.text\n",
    "    experience.append(x)"
   ]
  },
  {
   "cell_type": "code",
   "execution_count": 108,
   "id": "6b78184c",
   "metadata": {},
   "outputs": [],
   "source": [
    "locations=driver.find_elements_by_xpath(\"//li[@class='fleft grey-text br2 placeHolderLi location']/span\")\n",
    "for i in locations:\n",
    "    x=i.text\n",
    "    location.append(x)"
   ]
  },
  {
   "cell_type": "code",
   "execution_count": 109,
   "id": "54f04283",
   "metadata": {},
   "outputs": [
    {
     "data": {
      "text/html": [
       "<div>\n",
       "<style scoped>\n",
       "    .dataframe tbody tr th:only-of-type {\n",
       "        vertical-align: middle;\n",
       "    }\n",
       "\n",
       "    .dataframe tbody tr th {\n",
       "        vertical-align: top;\n",
       "    }\n",
       "\n",
       "    .dataframe thead th {\n",
       "        text-align: right;\n",
       "    }\n",
       "</style>\n",
       "<table border=\"1\" class=\"dataframe\">\n",
       "  <thead>\n",
       "    <tr style=\"text-align: right;\">\n",
       "      <th></th>\n",
       "      <th>Unnamed: 0</th>\n",
       "      <th>Job Role</th>\n",
       "      <th>Company</th>\n",
       "      <th>Location</th>\n",
       "      <th>Experience</th>\n",
       "    </tr>\n",
       "  </thead>\n",
       "  <tbody>\n",
       "    <tr>\n",
       "      <th>0</th>\n",
       "      <td>0</td>\n",
       "      <td>AI Technologist Vacancy</td>\n",
       "      <td>Wipro</td>\n",
       "      <td>Kolkata, Hyderabad/Secunderabad, Pune, Ahmedab...</td>\n",
       "      <td>6-11 Yrs</td>\n",
       "    </tr>\n",
       "    <tr>\n",
       "      <th>1</th>\n",
       "      <td>1</td>\n",
       "      <td>Job Opening with Wipro For Data Scientist posi...</td>\n",
       "      <td>Wipro</td>\n",
       "      <td>Kolkata, Hyderabad/Secunderabad, Chennai, Bang...</td>\n",
       "      <td>2-7 Yrs</td>\n",
       "    </tr>\n",
       "    <tr>\n",
       "      <th>2</th>\n",
       "      <td>2</td>\n",
       "      <td>Senior Data Scientist</td>\n",
       "      <td>Walmart</td>\n",
       "      <td>Bangalore/Bengaluru</td>\n",
       "      <td>5-9 Yrs</td>\n",
       "    </tr>\n",
       "    <tr>\n",
       "      <th>3</th>\n",
       "      <td>3</td>\n",
       "      <td>Senior Data Scientist</td>\n",
       "      <td>Walmart</td>\n",
       "      <td>Bangalore/Bengaluru</td>\n",
       "      <td>5-9 Yrs</td>\n",
       "    </tr>\n",
       "    <tr>\n",
       "      <th>4</th>\n",
       "      <td>4</td>\n",
       "      <td>Data Scientist</td>\n",
       "      <td>Genpact</td>\n",
       "      <td>Bangalore/Bengaluru</td>\n",
       "      <td>7-12 Yrs</td>\n",
       "    </tr>\n",
       "    <tr>\n",
       "      <th>5</th>\n",
       "      <td>5</td>\n",
       "      <td>Data Scientist</td>\n",
       "      <td>Genpact</td>\n",
       "      <td>Hyderabad/Secunderabad, Bangalore/Bengaluru, D...</td>\n",
       "      <td>5-8 Yrs</td>\n",
       "    </tr>\n",
       "    <tr>\n",
       "      <th>6</th>\n",
       "      <td>6</td>\n",
       "      <td>Data Scientist - Immediate Joiners</td>\n",
       "      <td>Bristlecone</td>\n",
       "      <td>Noida, Mumbai, Pune, Bangalore/Bengaluru</td>\n",
       "      <td>5-8 Yrs</td>\n",
       "    </tr>\n",
       "    <tr>\n",
       "      <th>7</th>\n",
       "      <td>7</td>\n",
       "      <td>Data Scientist- AI/ML- R&amp;D</td>\n",
       "      <td>EXL</td>\n",
       "      <td>Noida, Hyderabad/Secunderabad, Pune, Gurgaon/G...</td>\n",
       "      <td>2-6 Yrs</td>\n",
       "    </tr>\n",
       "    <tr>\n",
       "      <th>8</th>\n",
       "      <td>8</td>\n",
       "      <td>Urgent Hiring For AI Data Scientist</td>\n",
       "      <td>Ashkom Media India Private Limited</td>\n",
       "      <td>New Delhi, Bangalore/Bengaluru, Mumbai (All Ar...</td>\n",
       "      <td>1-4 Yrs</td>\n",
       "    </tr>\n",
       "    <tr>\n",
       "      <th>9</th>\n",
       "      <td>9</td>\n",
       "      <td>Data Scientist</td>\n",
       "      <td>UPL</td>\n",
       "      <td>(WFH during Covid)</td>\n",
       "      <td>2-7 Yrs</td>\n",
       "    </tr>\n",
       "  </tbody>\n",
       "</table>\n",
       "</div>"
      ],
      "text/plain": [
       "   Unnamed: 0                                           Job Role  \\\n",
       "0           0                            AI Technologist Vacancy   \n",
       "1           1  Job Opening with Wipro For Data Scientist posi...   \n",
       "2           2                              Senior Data Scientist   \n",
       "3           3                              Senior Data Scientist   \n",
       "4           4                                     Data Scientist   \n",
       "5           5                                     Data Scientist   \n",
       "6           6                 Data Scientist - Immediate Joiners   \n",
       "7           7                         Data Scientist- AI/ML- R&D   \n",
       "8           8                Urgent Hiring For AI Data Scientist   \n",
       "9           9                                     Data Scientist   \n",
       "\n",
       "                              Company  \\\n",
       "0                               Wipro   \n",
       "1                               Wipro   \n",
       "2                             Walmart   \n",
       "3                             Walmart   \n",
       "4                             Genpact   \n",
       "5                             Genpact   \n",
       "6                         Bristlecone   \n",
       "7                                 EXL   \n",
       "8  Ashkom Media India Private Limited   \n",
       "9                                 UPL   \n",
       "\n",
       "                                            Location Experience  \n",
       "0  Kolkata, Hyderabad/Secunderabad, Pune, Ahmedab...   6-11 Yrs  \n",
       "1  Kolkata, Hyderabad/Secunderabad, Chennai, Bang...    2-7 Yrs  \n",
       "2                                Bangalore/Bengaluru    5-9 Yrs  \n",
       "3                                Bangalore/Bengaluru    5-9 Yrs  \n",
       "4                                Bangalore/Bengaluru   7-12 Yrs  \n",
       "5  Hyderabad/Secunderabad, Bangalore/Bengaluru, D...    5-8 Yrs  \n",
       "6           Noida, Mumbai, Pune, Bangalore/Bengaluru    5-8 Yrs  \n",
       "7  Noida, Hyderabad/Secunderabad, Pune, Gurgaon/G...    2-6 Yrs  \n",
       "8  New Delhi, Bangalore/Bengaluru, Mumbai (All Ar...    1-4 Yrs  \n",
       "9                                 (WFH during Covid)    2-7 Yrs  "
      ]
     },
     "execution_count": 109,
     "metadata": {},
     "output_type": "execute_result"
    }
   ],
   "source": [
    "zipped = list(zip(job,company[0:10],location[0:10],experience[0:10]))\n",
    "df = pd.DataFrame(zipped, columns=['Job Role', 'Company', 'Location','Experience'])\n",
    "df.to_csv('jobs_datascience_banglore.csv')\n",
    "\n",
    "Jobs=pd.read_csv(\"jobs_datascience_banglore.csv\")\n",
    "\n",
    "Jobs"
   ]
  },
  {
   "cell_type": "code",
   "execution_count": 110,
   "id": "7b9ff8fd",
   "metadata": {},
   "outputs": [],
   "source": [
    "driver.close()"
   ]
  },
  {
   "cell_type": "code",
   "execution_count": null,
   "id": "d58a6cec",
   "metadata": {},
   "outputs": [],
   "source": [
    "# next question"
   ]
  },
  {
   "cell_type": "code",
   "execution_count": 111,
   "id": "7f0d6744",
   "metadata": {},
   "outputs": [],
   "source": [
    "### question 3"
   ]
  },
  {
   "cell_type": "code",
   "execution_count": 112,
   "id": "e266ca11",
   "metadata": {},
   "outputs": [],
   "source": [
    "scrap=webdriver.Chrome(r\"F:\\chromedriver.exe\")"
   ]
  },
  {
   "cell_type": "code",
   "execution_count": 113,
   "id": "4e77912f",
   "metadata": {},
   "outputs": [],
   "source": [
    "scrap.get('https://www.naukri.com/')"
   ]
  },
  {
   "cell_type": "code",
   "execution_count": 114,
   "id": "72fbd5eb",
   "metadata": {},
   "outputs": [],
   "source": [
    "search_feild_designation=scrap.find_element_by_class_name(\"suggestor-input\")\n",
    "search_feild_designation.send_keys(\"Data Scientist\")"
   ]
  },
  {
   "cell_type": "code",
   "execution_count": 115,
   "id": "92cad158",
   "metadata": {},
   "outputs": [],
   "source": [
    "search_button=scrap.find_element_by_xpath('/html/body/div/div[2]/div[3]/div/div/div[6]')\n",
    "search_button.click()"
   ]
  },
  {
   "cell_type": "code",
   "execution_count": 117,
   "id": "d6cb0218",
   "metadata": {},
   "outputs": [],
   "source": [
    "filter_salary=scrap.find_element_by_xpath('//*[@id=\"root\"]/div[3]/div[2]/section[1]/div[2]/div[6]/div[2]/div[2]/label/p/span[1]')\n",
    "filter_salary.click()"
   ]
  },
  {
   "cell_type": "code",
   "execution_count": 118,
   "id": "5e8f7abe",
   "metadata": {},
   "outputs": [],
   "source": [
    "place=scrap.find_element_by_xpath('/html/body/div[1]/div[3]/div[2]/section[1]/div[2]/div[6]/div[2]/div[3]/label/p/span[1]')\n",
    "place.click()"
   ]
  },
  {
   "cell_type": "code",
   "execution_count": 119,
   "id": "9b287a60",
   "metadata": {},
   "outputs": [],
   "source": [
    "job=[]\n",
    "company=[]\n",
    "location=[]\n",
    "experience=[]"
   ]
  },
  {
   "cell_type": "code",
   "execution_count": 120,
   "id": "5903b961",
   "metadata": {},
   "outputs": [],
   "source": [
    "titles_tag=scrap.find_elements_by_xpath(\"//a[@class='title fw500 ellipsis']\")\n",
    "for i in titles_tag:\n",
    "    title=i.text\n",
    "    job.append(title)"
   ]
  },
  {
   "cell_type": "code",
   "execution_count": 121,
   "id": "9335e09c",
   "metadata": {},
   "outputs": [],
   "source": [
    "company_tags=scrap.find_elements_by_xpath(\"//a[@class='subTitle ellipsis fleft']\")\n",
    "for i in company_tags:\n",
    "    x=i.text\n",
    "    company.append(x)"
   ]
  },
  {
   "cell_type": "code",
   "execution_count": 122,
   "id": "40a4e04b",
   "metadata": {},
   "outputs": [],
   "source": [
    "experience_tag=scrap.find_elements_by_xpath(\"//li[@class='fleft grey-text br2 placeHolderLi experience']/span\")\n",
    "for i in experience_tag:\n",
    "    x=i.text\n",
    "    experience.append(x)"
   ]
  },
  {
   "cell_type": "code",
   "execution_count": 123,
   "id": "daef2f0a",
   "metadata": {},
   "outputs": [],
   "source": [
    "locations=scrap.find_elements_by_xpath(\"//li[@class='fleft grey-text br2 placeHolderLi location']/span\")\n",
    "for i in locations:\n",
    "    x=i.text\n",
    "    location.append(x)"
   ]
  },
  {
   "cell_type": "code",
   "execution_count": 124,
   "id": "fc862129",
   "metadata": {},
   "outputs": [
    {
     "data": {
      "text/html": [
       "<div>\n",
       "<style scoped>\n",
       "    .dataframe tbody tr th:only-of-type {\n",
       "        vertical-align: middle;\n",
       "    }\n",
       "\n",
       "    .dataframe tbody tr th {\n",
       "        vertical-align: top;\n",
       "    }\n",
       "\n",
       "    .dataframe thead th {\n",
       "        text-align: right;\n",
       "    }\n",
       "</style>\n",
       "<table border=\"1\" class=\"dataframe\">\n",
       "  <thead>\n",
       "    <tr style=\"text-align: right;\">\n",
       "      <th></th>\n",
       "      <th>Unnamed: 0</th>\n",
       "      <th>Job Role</th>\n",
       "      <th>Company</th>\n",
       "      <th>Location</th>\n",
       "      <th>Experience</th>\n",
       "    </tr>\n",
       "  </thead>\n",
       "  <tbody>\n",
       "    <tr>\n",
       "      <th>0</th>\n",
       "      <td>0</td>\n",
       "      <td>Job Opening with Wipro For Data Scientist posi...</td>\n",
       "      <td>Wipro</td>\n",
       "      <td>Kolkata, Hyderabad/Secunderabad, Chennai, Bang...</td>\n",
       "      <td>2-7 Yrs</td>\n",
       "    </tr>\n",
       "    <tr>\n",
       "      <th>1</th>\n",
       "      <td>1</td>\n",
       "      <td>Data Scientist - Machine learning AI</td>\n",
       "      <td>Teq Analytics</td>\n",
       "      <td>Bangalore/Bengaluru, Delhi / NCR, Mumbai (All ...</td>\n",
       "      <td>3-8 Yrs</td>\n",
       "    </tr>\n",
       "    <tr>\n",
       "      <th>2</th>\n",
       "      <td>2</td>\n",
       "      <td>Data Scientist -Machine Learning with Python</td>\n",
       "      <td>Genpact</td>\n",
       "      <td>(WFH during Covid)</td>\n",
       "      <td>1-4 Yrs</td>\n",
       "    </tr>\n",
       "    <tr>\n",
       "      <th>3</th>\n",
       "      <td>3</td>\n",
       "      <td>Data Scientist</td>\n",
       "      <td>SS Supply Chain Solutions Pvt. Ltd. (3SC)</td>\n",
       "      <td>Noida, New Delhi, Gurgaon/Gurugram, Delhi / NCR</td>\n",
       "      <td>2-5 Yrs</td>\n",
       "    </tr>\n",
       "    <tr>\n",
       "      <th>4</th>\n",
       "      <td>4</td>\n",
       "      <td>Data Scientist - MIND Infotech</td>\n",
       "      <td>MOTHERSONSUMI INFOTECH &amp; DESIGNS LIMITED</td>\n",
       "      <td>(WFH during Covid)</td>\n",
       "      <td>4-8 Yrs</td>\n",
       "    </tr>\n",
       "    <tr>\n",
       "      <th>5</th>\n",
       "      <td>5</td>\n",
       "      <td>Data Scientist - MIND Infotech</td>\n",
       "      <td>MOTHERSONSUMI INFOTECH &amp; DESIGNS LIMITED</td>\n",
       "      <td>Pune, Gurgaon/Gurugram, Bangalore/Bengaluru</td>\n",
       "      <td>4-8 Yrs</td>\n",
       "    </tr>\n",
       "    <tr>\n",
       "      <th>6</th>\n",
       "      <td>6</td>\n",
       "      <td>Data Scientist - Predictive Analytics</td>\n",
       "      <td>Confidential</td>\n",
       "      <td>Noida</td>\n",
       "      <td>1-6 Yrs</td>\n",
       "    </tr>\n",
       "    <tr>\n",
       "      <th>7</th>\n",
       "      <td>7</td>\n",
       "      <td>Data Scientist - Internet Jobs - II</td>\n",
       "      <td>Jobs Territory</td>\n",
       "      <td>Noida</td>\n",
       "      <td>3-6 Yrs</td>\n",
       "    </tr>\n",
       "    <tr>\n",
       "      <th>8</th>\n",
       "      <td>8</td>\n",
       "      <td>Machine Learning Engineer | Data Engineer | Da...</td>\n",
       "      <td>Tidyquant (OPC) Private Limited</td>\n",
       "      <td>Noida, Mumbai, Chandigarh, Hyderabad/Secundera...</td>\n",
       "      <td>1-3 Yrs</td>\n",
       "    </tr>\n",
       "    <tr>\n",
       "      <th>9</th>\n",
       "      <td>9</td>\n",
       "      <td>Dot Net Developer</td>\n",
       "      <td>Nibha Infotech Private Limited</td>\n",
       "      <td>Bangalore/Bengaluru, Delhi / NCR, Mumbai (All ...</td>\n",
       "      <td>3-8 Yrs</td>\n",
       "    </tr>\n",
       "  </tbody>\n",
       "</table>\n",
       "</div>"
      ],
      "text/plain": [
       "   Unnamed: 0                                           Job Role  \\\n",
       "0           0  Job Opening with Wipro For Data Scientist posi...   \n",
       "1           1               Data Scientist - Machine learning AI   \n",
       "2           2       Data Scientist -Machine Learning with Python   \n",
       "3           3                                     Data Scientist   \n",
       "4           4                     Data Scientist - MIND Infotech   \n",
       "5           5                     Data Scientist - MIND Infotech   \n",
       "6           6              Data Scientist - Predictive Analytics   \n",
       "7           7                Data Scientist - Internet Jobs - II   \n",
       "8           8  Machine Learning Engineer | Data Engineer | Da...   \n",
       "9           9                                  Dot Net Developer   \n",
       "\n",
       "                                     Company  \\\n",
       "0                                      Wipro   \n",
       "1                              Teq Analytics   \n",
       "2                                    Genpact   \n",
       "3  SS Supply Chain Solutions Pvt. Ltd. (3SC)   \n",
       "4   MOTHERSONSUMI INFOTECH & DESIGNS LIMITED   \n",
       "5   MOTHERSONSUMI INFOTECH & DESIGNS LIMITED   \n",
       "6                               Confidential   \n",
       "7                             Jobs Territory   \n",
       "8            Tidyquant (OPC) Private Limited   \n",
       "9             Nibha Infotech Private Limited   \n",
       "\n",
       "                                            Location Experience  \n",
       "0  Kolkata, Hyderabad/Secunderabad, Chennai, Bang...    2-7 Yrs  \n",
       "1  Bangalore/Bengaluru, Delhi / NCR, Mumbai (All ...    3-8 Yrs  \n",
       "2                                 (WFH during Covid)    1-4 Yrs  \n",
       "3    Noida, New Delhi, Gurgaon/Gurugram, Delhi / NCR    2-5 Yrs  \n",
       "4                                 (WFH during Covid)    4-8 Yrs  \n",
       "5        Pune, Gurgaon/Gurugram, Bangalore/Bengaluru    4-8 Yrs  \n",
       "6                                              Noida    1-6 Yrs  \n",
       "7                                              Noida    3-6 Yrs  \n",
       "8  Noida, Mumbai, Chandigarh, Hyderabad/Secundera...    1-3 Yrs  \n",
       "9  Bangalore/Bengaluru, Delhi / NCR, Mumbai (All ...    3-8 Yrs  "
      ]
     },
     "execution_count": 124,
     "metadata": {},
     "output_type": "execute_result"
    }
   ],
   "source": [
    "zipped = list(zip(job,company[0:10],location[0:10],experience[0:10]))\n",
    "df = pd.DataFrame(zipped, columns=['Job Role', 'Company', 'Location','Experience'])\n",
    "df.to_csv('jobs_datascience_delhi.csv')\n",
    "\n",
    "Jobs=pd.read_csv(\"jobs_datascience_delhi.csv\")\n",
    "\n",
    "Jobs"
   ]
  },
  {
   "cell_type": "code",
   "execution_count": 125,
   "id": "9fde3c0f",
   "metadata": {},
   "outputs": [],
   "source": [
    "scrap.close()"
   ]
  },
  {
   "cell_type": "code",
   "execution_count": null,
   "id": "1f523341",
   "metadata": {},
   "outputs": [],
   "source": [
    "# next question"
   ]
  },
  {
   "cell_type": "code",
   "execution_count": 45,
   "id": "c2e1a220",
   "metadata": {},
   "outputs": [],
   "source": [
    "## question 4  Sunglasses"
   ]
  },
  {
   "cell_type": "code",
   "execution_count": 208,
   "id": "42924020",
   "metadata": {},
   "outputs": [],
   "source": [
    "flipkart=webdriver.Chrome(r\"F:\\chromedriver.exe\")\n",
    "    \n",
    "flipkart.get('https://www.flipkart.com/')"
   ]
  },
  {
   "cell_type": "code",
   "execution_count": 209,
   "id": "889ca830",
   "metadata": {},
   "outputs": [],
   "source": [
    "product=flipkart.find_element_by_class_name(\"_3704LK\")\n",
    "product.send_keys(\"sunglasses\")\n",
    "    \n",
    "search=flipkart.find_element_by_xpath(\"//button[@class='L0Z3Pu']\")\n",
    "search.click()\n",
    "    \n",
    "brand=[]\n",
    "price=[]\n",
    "description=[]"
   ]
  },
  {
   "cell_type": "code",
   "execution_count": 128,
   "id": "73f9374a",
   "metadata": {},
   "outputs": [],
   "source": [
    "brand_tag=flipkart.find_elements_by_xpath(\"//div[@class='_2WkVRV']\")\n",
    "for i in brand_tag:\n",
    "    title=i.text\n",
    "    brand.append(title)\n",
    "\n",
    "price_tag=flipkart.find_elements_by_xpath(\"//div[@class='_30jeq3']\")\n",
    "for i in price_tag:\n",
    "    title=i.text\n",
    "    price.append(title)\n",
    "\n",
    "description_tag=flipkart.find_elements_by_xpath(\"//a[@class='IRpwTa']\")\n",
    "for i in description_tag:\n",
    "    title=i.text\n",
    "    description.append(title)"
   ]
  },
  {
   "cell_type": "code",
   "execution_count": 129,
   "id": "8aca916e",
   "metadata": {},
   "outputs": [],
   "source": [
    "search=flipkart.find_element_by_class_name(\"_1LKTO3\")\n",
    "search.click()"
   ]
  },
  {
   "cell_type": "code",
   "execution_count": 130,
   "id": "d24d0f1e",
   "metadata": {},
   "outputs": [],
   "source": [
    "brand_tag=flipkart.find_elements_by_xpath(\"//div[@class='_2WkVRV']\")\n",
    "for i in brand_tag:\n",
    "    title=i.text\n",
    "    brand.append(title)\n",
    "\n",
    "price_tag=flipkart.find_elements_by_xpath(\"//div[@class='_30jeq3']\")\n",
    "for i in price_tag:\n",
    "    title=i.text\n",
    "    price.append(title)\n",
    "\n",
    "description_tag=flipkart.find_elements_by_xpath(\"//a[@class='IRpwTa']\")\n",
    "for i in description_tag:\n",
    "    title=i.text\n",
    "    description.append(title)"
   ]
  },
  {
   "cell_type": "code",
   "execution_count": 131,
   "id": "a753306c",
   "metadata": {},
   "outputs": [],
   "source": [
    "Next=flipkart.find_element_by_class_name(\"_1LKTO3\")\n",
    "Next.click()"
   ]
  },
  {
   "cell_type": "code",
   "execution_count": 132,
   "id": "256a8caf",
   "metadata": {},
   "outputs": [],
   "source": [
    "brand_tag=flipkart.find_elements_by_xpath(\"//div[@class='_2WkVRV']\")\n",
    "for i in brand_tag:\n",
    "    title=i.text\n",
    "    brand.append(title)\n",
    "\n",
    "price_tag=flipkart.find_elements_by_xpath(\"//div[@class='_30jeq3']\")\n",
    "for i in price_tag:\n",
    "    title=i.text\n",
    "    price.append(title)\n",
    "\n",
    "description_tag=flipkart.find_elements_by_xpath(\"//a[@class='IRpwTa']\")\n",
    "for i in description_tag:\n",
    "    title=i.text\n",
    "    description.append(title)"
   ]
  },
  {
   "cell_type": "code",
   "execution_count": 133,
   "id": "9e1ab3d7",
   "metadata": {},
   "outputs": [
    {
     "data": {
      "text/html": [
       "<div>\n",
       "<style scoped>\n",
       "    .dataframe tbody tr th:only-of-type {\n",
       "        vertical-align: middle;\n",
       "    }\n",
       "\n",
       "    .dataframe tbody tr th {\n",
       "        vertical-align: top;\n",
       "    }\n",
       "\n",
       "    .dataframe thead th {\n",
       "        text-align: right;\n",
       "    }\n",
       "</style>\n",
       "<table border=\"1\" class=\"dataframe\">\n",
       "  <thead>\n",
       "    <tr style=\"text-align: right;\">\n",
       "      <th></th>\n",
       "      <th>Unnamed: 0</th>\n",
       "      <th>Brand</th>\n",
       "      <th>Price</th>\n",
       "      <th>Description</th>\n",
       "    </tr>\n",
       "  </thead>\n",
       "  <tbody>\n",
       "    <tr>\n",
       "      <th>0</th>\n",
       "      <td>0</td>\n",
       "      <td>Rich Club</td>\n",
       "      <td>₹375</td>\n",
       "      <td>UV Protection, Polarized Round Sunglasses (50)</td>\n",
       "    </tr>\n",
       "    <tr>\n",
       "      <th>1</th>\n",
       "      <td>1</td>\n",
       "      <td>Ray-Ban</td>\n",
       "      <td>₹9,599</td>\n",
       "      <td>Gradient Round Sunglasses (54)</td>\n",
       "    </tr>\n",
       "    <tr>\n",
       "      <th>2</th>\n",
       "      <td>2</td>\n",
       "      <td>Mi</td>\n",
       "      <td>₹649</td>\n",
       "      <td>Polarized Aviator Sunglasses (Free Size)</td>\n",
       "    </tr>\n",
       "    <tr>\n",
       "      <th>3</th>\n",
       "      <td>3</td>\n",
       "      <td>SRPM</td>\n",
       "      <td>₹199</td>\n",
       "      <td>UV Protection Wayfarer Sunglasses (50)</td>\n",
       "    </tr>\n",
       "    <tr>\n",
       "      <th>4</th>\n",
       "      <td>4</td>\n",
       "      <td>Fastrack</td>\n",
       "      <td>₹639</td>\n",
       "      <td>UV Protection Rectangular Sunglasses (Free Size)</td>\n",
       "    </tr>\n",
       "    <tr>\n",
       "      <th>...</th>\n",
       "      <td>...</td>\n",
       "      <td>...</td>\n",
       "      <td>...</td>\n",
       "      <td>...</td>\n",
       "    </tr>\n",
       "    <tr>\n",
       "      <th>95</th>\n",
       "      <td>95</td>\n",
       "      <td>Ray-Ban</td>\n",
       "      <td>₹8,429</td>\n",
       "      <td>UV Protection Oval Sunglasses (49)</td>\n",
       "    </tr>\n",
       "    <tr>\n",
       "      <th>96</th>\n",
       "      <td>96</td>\n",
       "      <td>PIRASO</td>\n",
       "      <td>₹272</td>\n",
       "      <td>UV Protection Rectangular Sunglasses (52)</td>\n",
       "    </tr>\n",
       "    <tr>\n",
       "      <th>97</th>\n",
       "      <td>97</td>\n",
       "      <td>Fastrack</td>\n",
       "      <td>₹599</td>\n",
       "      <td>Gradient, UV Protection Wayfarer Sunglasses (F...</td>\n",
       "    </tr>\n",
       "    <tr>\n",
       "      <th>98</th>\n",
       "      <td>98</td>\n",
       "      <td>ROZZETTA CRAFT</td>\n",
       "      <td>₹287</td>\n",
       "      <td>UV Protection Rectangular Sunglasses (Free Size)</td>\n",
       "    </tr>\n",
       "    <tr>\n",
       "      <th>99</th>\n",
       "      <td>99</td>\n",
       "      <td>ROZZETTA CRAFT</td>\n",
       "      <td>₹359</td>\n",
       "      <td>UV Protection Round Sunglasses (Free Size)</td>\n",
       "    </tr>\n",
       "  </tbody>\n",
       "</table>\n",
       "<p>100 rows × 4 columns</p>\n",
       "</div>"
      ],
      "text/plain": [
       "    Unnamed: 0           Brand   Price  \\\n",
       "0            0       Rich Club    ₹375   \n",
       "1            1         Ray-Ban  ₹9,599   \n",
       "2            2              Mi    ₹649   \n",
       "3            3            SRPM    ₹199   \n",
       "4            4        Fastrack    ₹639   \n",
       "..         ...             ...     ...   \n",
       "95          95         Ray-Ban  ₹8,429   \n",
       "96          96          PIRASO    ₹272   \n",
       "97          97        Fastrack    ₹599   \n",
       "98          98  ROZZETTA CRAFT    ₹287   \n",
       "99          99  ROZZETTA CRAFT    ₹359   \n",
       "\n",
       "                                          Description  \n",
       "0      UV Protection, Polarized Round Sunglasses (50)  \n",
       "1                      Gradient Round Sunglasses (54)  \n",
       "2            Polarized Aviator Sunglasses (Free Size)  \n",
       "3              UV Protection Wayfarer Sunglasses (50)  \n",
       "4    UV Protection Rectangular Sunglasses (Free Size)  \n",
       "..                                                ...  \n",
       "95                 UV Protection Oval Sunglasses (49)  \n",
       "96          UV Protection Rectangular Sunglasses (52)  \n",
       "97  Gradient, UV Protection Wayfarer Sunglasses (F...  \n",
       "98   UV Protection Rectangular Sunglasses (Free Size)  \n",
       "99         UV Protection Round Sunglasses (Free Size)  \n",
       "\n",
       "[100 rows x 4 columns]"
      ]
     },
     "execution_count": 133,
     "metadata": {},
     "output_type": "execute_result"
    }
   ],
   "source": [
    "zipped = list(zip(brand[0:100],price[0:100],description[0:100]))\n",
    "df = pd.DataFrame(zipped, columns=['Brand', 'Price','Description'])\n",
    "df.to_csv('Sunglasses.csv')\n",
    "\n",
    "Glasses=pd.read_csv(\"Sunglasses.csv\")\n",
    "\n",
    "Glasses"
   ]
  },
  {
   "cell_type": "code",
   "execution_count": 134,
   "id": "581fb7a3",
   "metadata": {},
   "outputs": [],
   "source": [
    "flipkart.close()"
   ]
  },
  {
   "cell_type": "code",
   "execution_count": null,
   "id": "9be18c0c",
   "metadata": {},
   "outputs": [],
   "source": [
    "# next question"
   ]
  },
  {
   "cell_type": "code",
   "execution_count": null,
   "id": "82c89610",
   "metadata": {},
   "outputs": [],
   "source": [
    "###question 5 Iphone 11"
   ]
  },
  {
   "cell_type": "code",
   "execution_count": 11,
   "id": "01a7204a",
   "metadata": {},
   "outputs": [],
   "source": [
    "flipkart=webdriver.Chrome(r\"F:\\chromedriver.exe\")\n",
    "    \n",
    "flipkart.get('https://www.flipkart.com/')"
   ]
  },
  {
   "cell_type": "code",
   "execution_count": 12,
   "id": "3f3fc9b6",
   "metadata": {},
   "outputs": [],
   "source": [
    "product=flipkart.find_element_by_class_name(\"_3704LK\")\n",
    "product.send_keys(\"iphone 11\")\n",
    "    \n",
    "search=flipkart.find_element_by_xpath(\"//button[@class='L0Z3Pu']\")\n",
    "search.click()\n",
    "    \n",
    "rating=[]\n",
    "review_summary=[]\n",
    "full_review=[]"
   ]
  },
  {
   "cell_type": "code",
   "execution_count": 13,
   "id": "3b3a3d47",
   "metadata": {},
   "outputs": [],
   "source": [
    "iphone=flipkart.find_element_by_xpath('//*[@id=\"container\"]/div/div[3]/div[1]/div[2]/div[2]/div/div/div/a/div[2]/div[1]/div[1]')\n",
    "iphone.click()"
   ]
  },
  {
   "cell_type": "code",
   "execution_count": 20,
   "id": "771547e8",
   "metadata": {},
   "outputs": [],
   "source": [
    "flipkart.get('https://www.flipkart.com/apple-iphone-11-purple-128-gb/product-reviews/itmb7ca0b05522ff?pid=MOBFWQ6BEHFXGXGB&lid=LSTMOBFWQ6BEHFXGXGBMVHGLV&marketplace=FLIPKART')"
   ]
  },
  {
   "cell_type": "code",
   "execution_count": 21,
   "id": "e1bc8667",
   "metadata": {},
   "outputs": [],
   "source": [
    "rating_tag=flipkart.find_elements_by_xpath(\"//div[@class='_3LWZlK _1BLPMq']\")\n",
    "for i in rating_tag:\n",
    "    R=i.text\n",
    "    rating.append(R)\n",
    "\n",
    "review_tag=flipkart.find_elements_by_xpath(\"//p[@class='_2-N8zT']\")\n",
    "for i in review_tag:\n",
    "    r=i.text\n",
    "    review_summary.append(r)\n",
    "\n",
    "full_review_tag=flipkart.find_elements_by_xpath(\"//div[@class='t-ZTKy']\")\n",
    "for i in full_review_tag:\n",
    "    rev=i.text\n",
    "    full_review.append(rev)"
   ]
  },
  {
   "cell_type": "code",
   "execution_count": 24,
   "id": "2838cd43",
   "metadata": {},
   "outputs": [],
   "source": [
    "Next=flipkart.find_element_by_class_name(\"_1LKTO3\")\n",
    "Next.click()"
   ]
  },
  {
   "cell_type": "code",
   "execution_count": 27,
   "id": "4a55aad4",
   "metadata": {},
   "outputs": [],
   "source": [
    "def scratch():\n",
    "        rating_tag=flipkart.find_elements_by_xpath(\"//div[@class='_3LWZlK _1BLPMq']\")\n",
    "        for i in rating_tag:\n",
    "            R=i.text\n",
    "            rating.append(R)\n",
    "\n",
    "        review_tag=flipkart.find_elements_by_xpath(\"//p[@class='_2-N8zT']\")\n",
    "        for i in review_tag:\n",
    "            r=i.text\n",
    "            review_summary.append(r)\n",
    "\n",
    "        full_review_tag=flipkart.find_elements_by_xpath(\"//div[@class='t-ZTKy']\")\n",
    "        for i in full_review_tag:\n",
    "            rev=i.text\n",
    "            full_review.append(rev)\n",
    "\n"
   ]
  },
  {
   "cell_type": "code",
   "execution_count": 28,
   "id": "ee749dbd",
   "metadata": {},
   "outputs": [],
   "source": [
    "scratch()"
   ]
  },
  {
   "cell_type": "code",
   "execution_count": 29,
   "id": "ffd6266b",
   "metadata": {},
   "outputs": [],
   "source": [
    "Next=flipkart.find_element_by_class_name(\"_1LKTO3\")\n",
    "Next.click()"
   ]
  },
  {
   "cell_type": "code",
   "execution_count": 30,
   "id": "6366f6fc",
   "metadata": {},
   "outputs": [],
   "source": [
    "scratch()"
   ]
  },
  {
   "cell_type": "code",
   "execution_count": 31,
   "id": "1169dc43",
   "metadata": {},
   "outputs": [],
   "source": [
    "Next=flipkart.find_element_by_class_name(\"_1LKTO3\")\n",
    "Next.click()"
   ]
  },
  {
   "cell_type": "code",
   "execution_count": 32,
   "id": "aacfd345",
   "metadata": {},
   "outputs": [],
   "source": [
    "scratch()\n"
   ]
  },
  {
   "cell_type": "code",
   "execution_count": 33,
   "id": "e8246a34",
   "metadata": {},
   "outputs": [],
   "source": [
    "Next=flipkart.find_element_by_class_name(\"_1LKTO3\")\n",
    "Next.click()"
   ]
  },
  {
   "cell_type": "code",
   "execution_count": 34,
   "id": "33b728c9",
   "metadata": {},
   "outputs": [],
   "source": [
    "scratch()"
   ]
  },
  {
   "cell_type": "code",
   "execution_count": 35,
   "id": "aaa0e42a",
   "metadata": {},
   "outputs": [],
   "source": [
    "Next=flipkart.find_element_by_class_name(\"_1LKTO3\")\n",
    "Next.click()"
   ]
  },
  {
   "cell_type": "code",
   "execution_count": 36,
   "id": "712a1a08",
   "metadata": {},
   "outputs": [],
   "source": [
    "scratch()"
   ]
  },
  {
   "cell_type": "code",
   "execution_count": 37,
   "id": "856e619b",
   "metadata": {},
   "outputs": [],
   "source": [
    "Next=flipkart.find_element_by_class_name(\"_1LKTO3\")\n",
    "Next.click()"
   ]
  },
  {
   "cell_type": "code",
   "execution_count": 38,
   "id": "d710959b",
   "metadata": {},
   "outputs": [],
   "source": [
    "scratch()"
   ]
  },
  {
   "cell_type": "code",
   "execution_count": 39,
   "id": "29d3c224",
   "metadata": {},
   "outputs": [],
   "source": [
    "Next=flipkart.find_element_by_class_name(\"_1LKTO3\")\n",
    "Next.click()"
   ]
  },
  {
   "cell_type": "code",
   "execution_count": 40,
   "id": "08ef8360",
   "metadata": {},
   "outputs": [],
   "source": [
    "scratch()"
   ]
  },
  {
   "cell_type": "code",
   "execution_count": 41,
   "id": "7114eb6f",
   "metadata": {},
   "outputs": [],
   "source": [
    "Next=flipkart.find_element_by_class_name(\"_1LKTO3\")\n",
    "Next.click()"
   ]
  },
  {
   "cell_type": "code",
   "execution_count": 42,
   "id": "f84b7e9c",
   "metadata": {},
   "outputs": [],
   "source": [
    "scratch()"
   ]
  },
  {
   "cell_type": "code",
   "execution_count": 43,
   "id": "d56d06b3",
   "metadata": {},
   "outputs": [],
   "source": [
    "Next=flipkart.find_element_by_class_name(\"_1LKTO3\")\n",
    "Next.click()"
   ]
  },
  {
   "cell_type": "code",
   "execution_count": 45,
   "id": "a89b0232",
   "metadata": {},
   "outputs": [],
   "source": [
    "scratch()"
   ]
  },
  {
   "cell_type": "code",
   "execution_count": 46,
   "id": "fb831a38",
   "metadata": {},
   "outputs": [],
   "source": [
    "Next=flipkart.find_element_by_class_name(\"_1LKTO3\")\n",
    "Next.click()"
   ]
  },
  {
   "cell_type": "code",
   "execution_count": 47,
   "id": "684ff958",
   "metadata": {},
   "outputs": [],
   "source": [
    "scratch()"
   ]
  },
  {
   "cell_type": "code",
   "execution_count": 48,
   "id": "393fe48f",
   "metadata": {},
   "outputs": [],
   "source": [
    "Next=flipkart.find_element_by_class_name(\"_1LKTO3\")\n",
    "Next.click()"
   ]
  },
  {
   "cell_type": "code",
   "execution_count": 50,
   "id": "06c0b77b",
   "metadata": {},
   "outputs": [
    {
     "data": {
      "text/html": [
       "<div>\n",
       "<style scoped>\n",
       "    .dataframe tbody tr th:only-of-type {\n",
       "        vertical-align: middle;\n",
       "    }\n",
       "\n",
       "    .dataframe tbody tr th {\n",
       "        vertical-align: top;\n",
       "    }\n",
       "\n",
       "    .dataframe thead th {\n",
       "        text-align: right;\n",
       "    }\n",
       "</style>\n",
       "<table border=\"1\" class=\"dataframe\">\n",
       "  <thead>\n",
       "    <tr style=\"text-align: right;\">\n",
       "      <th></th>\n",
       "      <th>Unnamed: 0</th>\n",
       "      <th>Rating</th>\n",
       "      <th>Review_Summary</th>\n",
       "      <th>Full_Review</th>\n",
       "    </tr>\n",
       "  </thead>\n",
       "  <tbody>\n",
       "    <tr>\n",
       "      <th>0</th>\n",
       "      <td>0</td>\n",
       "      <td>5</td>\n",
       "      <td>Simply awesome</td>\n",
       "      <td>Really satisfied with the Product I received.....</td>\n",
       "    </tr>\n",
       "    <tr>\n",
       "      <th>1</th>\n",
       "      <td>1</td>\n",
       "      <td>5</td>\n",
       "      <td>Best in the market!</td>\n",
       "      <td>Great iPhone very snappy experience as apple k...</td>\n",
       "    </tr>\n",
       "    <tr>\n",
       "      <th>2</th>\n",
       "      <td>2</td>\n",
       "      <td>5</td>\n",
       "      <td>Perfect product!</td>\n",
       "      <td>Amazing phone with great cameras and better ba...</td>\n",
       "    </tr>\n",
       "    <tr>\n",
       "      <th>3</th>\n",
       "      <td>3</td>\n",
       "      <td>5</td>\n",
       "      <td>Worth every penny</td>\n",
       "      <td>Previously I was using one plus 3t it was a gr...</td>\n",
       "    </tr>\n",
       "    <tr>\n",
       "      <th>4</th>\n",
       "      <td>4</td>\n",
       "      <td>5</td>\n",
       "      <td>Fabulous!</td>\n",
       "      <td>This is my first iOS phone. I am very happy wi...</td>\n",
       "    </tr>\n",
       "    <tr>\n",
       "      <th>...</th>\n",
       "      <td>...</td>\n",
       "      <td>...</td>\n",
       "      <td>...</td>\n",
       "      <td>...</td>\n",
       "    </tr>\n",
       "    <tr>\n",
       "      <th>95</th>\n",
       "      <td>95</td>\n",
       "      <td>5</td>\n",
       "      <td>Best in the market!</td>\n",
       "      <td>What a camera .....just awesome ..you can feel...</td>\n",
       "    </tr>\n",
       "    <tr>\n",
       "      <th>96</th>\n",
       "      <td>96</td>\n",
       "      <td>5</td>\n",
       "      <td>Perfect product!</td>\n",
       "      <td>Amazing Powerful and Durable Gadget.\\n\\nI’m am...</td>\n",
       "    </tr>\n",
       "    <tr>\n",
       "      <th>97</th>\n",
       "      <td>97</td>\n",
       "      <td>5</td>\n",
       "      <td>Worth every penny</td>\n",
       "      <td>i11 is worthy to buy, too much happy with the ...</td>\n",
       "    </tr>\n",
       "    <tr>\n",
       "      <th>98</th>\n",
       "      <td>98</td>\n",
       "      <td>5</td>\n",
       "      <td>Fabulous!</td>\n",
       "      <td>So far it’s been an AMAZING experience coming ...</td>\n",
       "    </tr>\n",
       "    <tr>\n",
       "      <th>99</th>\n",
       "      <td>99</td>\n",
       "      <td>5</td>\n",
       "      <td>Highly recommended</td>\n",
       "      <td>iphone 11 is a very good phone to buy only if ...</td>\n",
       "    </tr>\n",
       "  </tbody>\n",
       "</table>\n",
       "<p>100 rows × 4 columns</p>\n",
       "</div>"
      ],
      "text/plain": [
       "    Unnamed: 0  Rating       Review_Summary  \\\n",
       "0            0       5       Simply awesome   \n",
       "1            1       5  Best in the market!   \n",
       "2            2       5     Perfect product!   \n",
       "3            3       5    Worth every penny   \n",
       "4            4       5            Fabulous!   \n",
       "..         ...     ...                  ...   \n",
       "95          95       5  Best in the market!   \n",
       "96          96       5     Perfect product!   \n",
       "97          97       5    Worth every penny   \n",
       "98          98       5            Fabulous!   \n",
       "99          99       5   Highly recommended   \n",
       "\n",
       "                                          Full_Review  \n",
       "0   Really satisfied with the Product I received.....  \n",
       "1   Great iPhone very snappy experience as apple k...  \n",
       "2   Amazing phone with great cameras and better ba...  \n",
       "3   Previously I was using one plus 3t it was a gr...  \n",
       "4   This is my first iOS phone. I am very happy wi...  \n",
       "..                                                ...  \n",
       "95  What a camera .....just awesome ..you can feel...  \n",
       "96  Amazing Powerful and Durable Gadget.\\n\\nI’m am...  \n",
       "97  i11 is worthy to buy, too much happy with the ...  \n",
       "98  So far it’s been an AMAZING experience coming ...  \n",
       "99  iphone 11 is a very good phone to buy only if ...  \n",
       "\n",
       "[100 rows x 4 columns]"
      ]
     },
     "execution_count": 50,
     "metadata": {},
     "output_type": "execute_result"
    }
   ],
   "source": [
    "compose = list(zip(rating[0:100],review_summary[0:100],full_review[0:100]))\n",
    "df = pd.DataFrame(compose, columns=['Rating', 'Review_Summary','Full_Review'])\n",
    "df.to_csv('Iphone.csv')\n",
    "\n",
    "Iphone=pd.read_csv(\"Iphone.csv\")\n",
    "\n",
    "Iphone"
   ]
  },
  {
   "cell_type": "code",
   "execution_count": 51,
   "id": "42aeb0c9",
   "metadata": {},
   "outputs": [],
   "source": [
    "flipkart.close()"
   ]
  },
  {
   "cell_type": "code",
   "execution_count": null,
   "id": "74e7b421",
   "metadata": {},
   "outputs": [],
   "source": [
    "##############next Question############"
   ]
  },
  {
   "cell_type": "code",
   "execution_count": 2,
   "id": "1286c157",
   "metadata": {},
   "outputs": [],
   "source": [
    "### question 6 SNEAKER"
   ]
  },
  {
   "cell_type": "code",
   "execution_count": 135,
   "id": "dded2591",
   "metadata": {},
   "outputs": [],
   "source": [
    "flipkart=webdriver.Chrome(r\"F:\\chromedriver.exe\")\n",
    "    \n",
    "flipkart.get('https://www.flipkart.com/')"
   ]
  },
  {
   "cell_type": "code",
   "execution_count": 136,
   "id": "30570590",
   "metadata": {},
   "outputs": [],
   "source": [
    "product=flipkart.find_element_by_class_name(\"_3704LK\")\n",
    "product.send_keys(\"sneaker\")\n",
    "    \n",
    "search=flipkart.find_element_by_xpath(\"//button[@class='L0Z3Pu']\")\n",
    "search.click()\n",
    "    \n",
    "brand=[]\n",
    "price=[]\n",
    "description=[]"
   ]
  },
  {
   "cell_type": "code",
   "execution_count": 137,
   "id": "c0ac0a4e",
   "metadata": {},
   "outputs": [],
   "source": [
    "brand_tag=flipkart.find_elements_by_xpath(\"//div[@class='_2WkVRV']\")\n",
    "for j in brand_tag:\n",
    "    title=j.text\n",
    "    brand.append(title)\n",
    "\n",
    "price_tag=flipkart.find_elements_by_xpath(\"//div[@class='_30jeq3']\")\n",
    "for k in price_tag:\n",
    "        title=k.text\n",
    "        price.append(title)\n",
    "\n",
    "description_tag=flipkart.find_elements_by_xpath(\"//a[@class='IRpwTa']\")\n",
    "for l in description_tag:\n",
    "    title=l.text\n",
    "    description.append(title)"
   ]
  },
  {
   "cell_type": "code",
   "execution_count": 138,
   "id": "834c4c43",
   "metadata": {},
   "outputs": [],
   "source": [
    "Next=flipkart.find_element_by_class_name(\"_1LKTO3\")\n",
    "Next.click()"
   ]
  },
  {
   "cell_type": "code",
   "execution_count": 139,
   "id": "2b7c495c",
   "metadata": {},
   "outputs": [],
   "source": [
    "brand_tag=flipkart.find_elements_by_xpath(\"//div[@class='_2WkVRV']\")\n",
    "for j in brand_tag:\n",
    "    title=j.text\n",
    "    brand.append(title)\n",
    "\n",
    "price_tag=flipkart.find_elements_by_xpath(\"//div[@class='_30jeq3']\")\n",
    "for k in price_tag:\n",
    "        title=k.text\n",
    "        price.append(title)\n",
    "\n",
    "description_tag=flipkart.find_elements_by_xpath(\"//a[@class='IRpwTa']\")\n",
    "for l in description_tag:\n",
    "    title=l.text\n",
    "    description.append(title)"
   ]
  },
  {
   "cell_type": "code",
   "execution_count": 140,
   "id": "1d75b435",
   "metadata": {},
   "outputs": [],
   "source": [
    "Next=flipkart.find_element_by_class_name(\"_1LKTO3\")\n",
    "Next.click()"
   ]
  },
  {
   "cell_type": "code",
   "execution_count": 141,
   "id": "d407ad6c",
   "metadata": {},
   "outputs": [],
   "source": [
    "brand_tag=flipkart.find_elements_by_xpath(\"//div[@class='_2WkVRV']\")\n",
    "for j in brand_tag:\n",
    "    title=j.text\n",
    "    brand.append(title)\n",
    "\n",
    "price_tag=flipkart.find_elements_by_xpath(\"//div[@class='_30jeq3']\")\n",
    "for k in price_tag:\n",
    "        title=k.text\n",
    "        price.append(title)\n",
    "\n",
    "description_tag=flipkart.find_elements_by_xpath(\"//a[@class='IRpwTa']\")\n",
    "for l in description_tag:\n",
    "    title=l.text\n",
    "    description.append(title)"
   ]
  },
  {
   "cell_type": "code",
   "execution_count": 142,
   "id": "09878846",
   "metadata": {},
   "outputs": [
    {
     "data": {
      "text/html": [
       "<div>\n",
       "<style scoped>\n",
       "    .dataframe tbody tr th:only-of-type {\n",
       "        vertical-align: middle;\n",
       "    }\n",
       "\n",
       "    .dataframe tbody tr th {\n",
       "        vertical-align: top;\n",
       "    }\n",
       "\n",
       "    .dataframe thead th {\n",
       "        text-align: right;\n",
       "    }\n",
       "</style>\n",
       "<table border=\"1\" class=\"dataframe\">\n",
       "  <thead>\n",
       "    <tr style=\"text-align: right;\">\n",
       "      <th></th>\n",
       "      <th>Unnamed: 0</th>\n",
       "      <th>Brand</th>\n",
       "      <th>Price</th>\n",
       "      <th>Description</th>\n",
       "    </tr>\n",
       "  </thead>\n",
       "  <tbody>\n",
       "    <tr>\n",
       "      <th>0</th>\n",
       "      <td>0</td>\n",
       "      <td>Robbie jones</td>\n",
       "      <td>₹379</td>\n",
       "      <td>Casual Sneakers White Shoes For Men Sneakers F...</td>\n",
       "    </tr>\n",
       "    <tr>\n",
       "      <th>1</th>\n",
       "      <td>1</td>\n",
       "      <td>corsac</td>\n",
       "      <td>₹499</td>\n",
       "      <td>STYLISH MENS BLACK SNEAKER Sneakers For Men</td>\n",
       "    </tr>\n",
       "    <tr>\n",
       "      <th>2</th>\n",
       "      <td>2</td>\n",
       "      <td>HOTSTYLE</td>\n",
       "      <td>₹245</td>\n",
       "      <td>Sneakers For Men</td>\n",
       "    </tr>\n",
       "    <tr>\n",
       "      <th>3</th>\n",
       "      <td>3</td>\n",
       "      <td>ASTEROID</td>\n",
       "      <td>₹519</td>\n",
       "      <td>Wings Print Premium Fancy Stylish Fashion Snea...</td>\n",
       "    </tr>\n",
       "    <tr>\n",
       "      <th>4</th>\n",
       "      <td>4</td>\n",
       "      <td>ZF Klub</td>\n",
       "      <td>₹363</td>\n",
       "      <td>Sneakers For Men</td>\n",
       "    </tr>\n",
       "    <tr>\n",
       "      <th>...</th>\n",
       "      <td>...</td>\n",
       "      <td>...</td>\n",
       "      <td>...</td>\n",
       "      <td>...</td>\n",
       "    </tr>\n",
       "    <tr>\n",
       "      <th>66</th>\n",
       "      <td>66</td>\n",
       "      <td>PUMA</td>\n",
       "      <td>₹2,089</td>\n",
       "      <td>Sneakers For Men</td>\n",
       "    </tr>\n",
       "    <tr>\n",
       "      <th>67</th>\n",
       "      <td>67</td>\n",
       "      <td>luxury fashion</td>\n",
       "      <td>₹404</td>\n",
       "      <td>KING PRO Sneakers For Men</td>\n",
       "    </tr>\n",
       "    <tr>\n",
       "      <th>68</th>\n",
       "      <td>68</td>\n",
       "      <td>U.S. POLO ASSN.</td>\n",
       "      <td>₹1,295</td>\n",
       "      <td>STR2 Sneakers For Men</td>\n",
       "    </tr>\n",
       "    <tr>\n",
       "      <th>69</th>\n",
       "      <td>69</td>\n",
       "      <td>aadi</td>\n",
       "      <td>₹299</td>\n",
       "      <td>Series 7 Sneakers For Men</td>\n",
       "    </tr>\n",
       "    <tr>\n",
       "      <th>70</th>\n",
       "      <td>70</td>\n",
       "      <td>CLYMB</td>\n",
       "      <td>₹519</td>\n",
       "      <td>Sneakers For Men</td>\n",
       "    </tr>\n",
       "  </tbody>\n",
       "</table>\n",
       "<p>71 rows × 4 columns</p>\n",
       "</div>"
      ],
      "text/plain": [
       "    Unnamed: 0            Brand   Price  \\\n",
       "0            0     Robbie jones    ₹379   \n",
       "1            1           corsac    ₹499   \n",
       "2            2         HOTSTYLE    ₹245   \n",
       "3            3         ASTEROID    ₹519   \n",
       "4            4          ZF Klub    ₹363   \n",
       "..         ...              ...     ...   \n",
       "66          66             PUMA  ₹2,089   \n",
       "67          67   luxury fashion    ₹404   \n",
       "68          68  U.S. POLO ASSN.  ₹1,295   \n",
       "69          69             aadi    ₹299   \n",
       "70          70            CLYMB    ₹519   \n",
       "\n",
       "                                          Description  \n",
       "0   Casual Sneakers White Shoes For Men Sneakers F...  \n",
       "1         STYLISH MENS BLACK SNEAKER Sneakers For Men  \n",
       "2                                    Sneakers For Men  \n",
       "3   Wings Print Premium Fancy Stylish Fashion Snea...  \n",
       "4                                    Sneakers For Men  \n",
       "..                                                ...  \n",
       "66                                   Sneakers For Men  \n",
       "67                          KING PRO Sneakers For Men  \n",
       "68                              STR2 Sneakers For Men  \n",
       "69                          Series 7 Sneakers For Men  \n",
       "70                                   Sneakers For Men  \n",
       "\n",
       "[71 rows x 4 columns]"
      ]
     },
     "execution_count": 142,
     "metadata": {},
     "output_type": "execute_result"
    }
   ],
   "source": [
    "compose = list(zip(brand[0:100],price[0:100],description[0:100]))\n",
    "df = pd.DataFrame(compose, columns=['Brand', 'Price','Description'])\n",
    "df.to_csv('Sneaker.csv')\n",
    "\n",
    "Sneaker=pd.read_csv(\"Sneaker.csv\")\n",
    "\n",
    "Sneaker"
   ]
  },
  {
   "cell_type": "code",
   "execution_count": 143,
   "id": "4177a3c4",
   "metadata": {},
   "outputs": [],
   "source": [
    "flipkart.close()"
   ]
  },
  {
   "cell_type": "code",
   "execution_count": null,
   "id": "ec6bbfc4",
   "metadata": {},
   "outputs": [],
   "source": [
    "# next question"
   ]
  },
  {
   "cell_type": "code",
   "execution_count": 144,
   "id": "43ae9707",
   "metadata": {},
   "outputs": [],
   "source": [
    "### question 7 ## myntra"
   ]
  },
  {
   "cell_type": "code",
   "execution_count": 145,
   "id": "f624cdc2",
   "metadata": {},
   "outputs": [],
   "source": [
    "myntra=webdriver.Chrome(r\"F:\\chromedriver.exe\")\n",
    "    \n",
    "myntra.get('https://www.myntra.com/shoes')\n",
    "    \n",
    "colour=myntra.find_element_by_xpath('//*[@id=\"mountRoot\"]/div/div[1]/main/div[3]/div[1]/section/div/div[6]/ul/li[1]/label/span[1]')\n",
    "colour.click()"
   ]
  },
  {
   "cell_type": "code",
   "execution_count": 146,
   "id": "6d7d11c6",
   "metadata": {},
   "outputs": [],
   "source": [
    "price=myntra.find_element_by_xpath('//*[@id=\"mountRoot\"]/div/div[1]/main/div[3]/div[1]/section/div/div[5]/ul/li[2]/label')\n",
    "price.click()\n",
    "\n",
    "brand=[]\n",
    "price=[]\n",
    "description=[]\n"
   ]
  },
  {
   "cell_type": "code",
   "execution_count": 147,
   "id": "5791bc7e",
   "metadata": {},
   "outputs": [],
   "source": [
    "brand_tag=myntra.find_elements_by_xpath(\"//h3[@class='product-brand']\")\n",
    "for j in brand_tag:\n",
    "    title=j.text\n",
    "    brand.append(title)\n",
    "\n",
    "price_tag=myntra.find_elements_by_xpath(\"//div[@class='product-price']\")\n",
    "for k in price_tag:\n",
    "        title=k.text\n",
    "        price.append(title)\n",
    "\n",
    "description_tag=myntra.find_elements_by_xpath(\"//h4[@class='product-product']\")\n",
    "for l in description_tag:\n",
    "    title=l.text\n",
    "    description.append(title)"
   ]
  },
  {
   "cell_type": "code",
   "execution_count": 148,
   "id": "5095a799",
   "metadata": {},
   "outputs": [],
   "source": [
    "Next=myntra.find_element_by_class_name(\"pagination-arrowRight\")\n",
    "Next.click()"
   ]
  },
  {
   "cell_type": "code",
   "execution_count": 149,
   "id": "5ba4571c",
   "metadata": {},
   "outputs": [],
   "source": [
    "brand_tag=myntra.find_elements_by_xpath(\"//h3[@class='product-brand']\")\n",
    "for j in brand_tag:\n",
    "    title=j.text\n",
    "    brand.append(title)\n",
    "\n",
    "price_tag=myntra.find_elements_by_xpath(\"//div[@class='product-price']\")\n",
    "for k in price_tag:\n",
    "        title=k.text\n",
    "        price.append(title)\n",
    "\n",
    "description_tag=myntra.find_elements_by_xpath(\"//h4[@class='product-product']\")\n",
    "for l in description_tag:\n",
    "    title=l.text\n",
    "    description.append(title)"
   ]
  },
  {
   "cell_type": "code",
   "execution_count": 150,
   "id": "4a15bd4a",
   "metadata": {},
   "outputs": [
    {
     "data": {
      "text/html": [
       "<div>\n",
       "<style scoped>\n",
       "    .dataframe tbody tr th:only-of-type {\n",
       "        vertical-align: middle;\n",
       "    }\n",
       "\n",
       "    .dataframe tbody tr th {\n",
       "        vertical-align: top;\n",
       "    }\n",
       "\n",
       "    .dataframe thead th {\n",
       "        text-align: right;\n",
       "    }\n",
       "</style>\n",
       "<table border=\"1\" class=\"dataframe\">\n",
       "  <thead>\n",
       "    <tr style=\"text-align: right;\">\n",
       "      <th></th>\n",
       "      <th>Unnamed: 0</th>\n",
       "      <th>Brand</th>\n",
       "      <th>Price</th>\n",
       "      <th>Description</th>\n",
       "    </tr>\n",
       "  </thead>\n",
       "  <tbody>\n",
       "    <tr>\n",
       "      <th>0</th>\n",
       "      <td>0</td>\n",
       "      <td>Skechers</td>\n",
       "      <td>Rs. 8499</td>\n",
       "      <td>Men Go Walk 5 Walking Shoes</td>\n",
       "    </tr>\n",
       "    <tr>\n",
       "      <th>1</th>\n",
       "      <td>1</td>\n",
       "      <td>UNDER ARMOUR</td>\n",
       "      <td>Rs. 7649Rs. 8999(15% OFF)</td>\n",
       "      <td>Men UA Charged Breeze Training</td>\n",
       "    </tr>\n",
       "    <tr>\n",
       "      <th>2</th>\n",
       "      <td>2</td>\n",
       "      <td>Skechers</td>\n",
       "      <td>Rs. 9499</td>\n",
       "      <td>Men ENIGMA Running Shoes</td>\n",
       "    </tr>\n",
       "    <tr>\n",
       "      <th>3</th>\n",
       "      <td>3</td>\n",
       "      <td>Nike</td>\n",
       "      <td>Rs. 10495</td>\n",
       "      <td>Women Pegasus 39 Running Shoes</td>\n",
       "    </tr>\n",
       "    <tr>\n",
       "      <th>4</th>\n",
       "      <td>4</td>\n",
       "      <td>Puma</td>\n",
       "      <td>Rs. 9999</td>\n",
       "      <td>Men Running Shoes</td>\n",
       "    </tr>\n",
       "    <tr>\n",
       "      <th>...</th>\n",
       "      <td>...</td>\n",
       "      <td>...</td>\n",
       "      <td>...</td>\n",
       "      <td>...</td>\n",
       "    </tr>\n",
       "    <tr>\n",
       "      <th>95</th>\n",
       "      <td>95</td>\n",
       "      <td>Cole Haan</td>\n",
       "      <td>Rs. 11999</td>\n",
       "      <td>Men GENERATION ZEROGRAND STITCHLITE</td>\n",
       "    </tr>\n",
       "    <tr>\n",
       "      <th>96</th>\n",
       "      <td>96</td>\n",
       "      <td>Geox</td>\n",
       "      <td>Rs. 13990</td>\n",
       "      <td>Men Solid Slip-On Sneakers</td>\n",
       "    </tr>\n",
       "    <tr>\n",
       "      <th>97</th>\n",
       "      <td>97</td>\n",
       "      <td>J.FONTINI</td>\n",
       "      <td>Rs. 7990</td>\n",
       "      <td>Men Textured Leather Loafers</td>\n",
       "    </tr>\n",
       "    <tr>\n",
       "      <th>98</th>\n",
       "      <td>98</td>\n",
       "      <td>Geox</td>\n",
       "      <td>Rs. 9990</td>\n",
       "      <td>Men Leather Formal Slip-Ons</td>\n",
       "    </tr>\n",
       "    <tr>\n",
       "      <th>99</th>\n",
       "      <td>99</td>\n",
       "      <td>Clarks</td>\n",
       "      <td>Rs. 9999</td>\n",
       "      <td>Men Solid Formal Leather Derbys</td>\n",
       "    </tr>\n",
       "  </tbody>\n",
       "</table>\n",
       "<p>100 rows × 4 columns</p>\n",
       "</div>"
      ],
      "text/plain": [
       "    Unnamed: 0         Brand                      Price  \\\n",
       "0            0      Skechers                   Rs. 8499   \n",
       "1            1  UNDER ARMOUR  Rs. 7649Rs. 8999(15% OFF)   \n",
       "2            2      Skechers                   Rs. 9499   \n",
       "3            3          Nike                  Rs. 10495   \n",
       "4            4          Puma                   Rs. 9999   \n",
       "..         ...           ...                        ...   \n",
       "95          95     Cole Haan                  Rs. 11999   \n",
       "96          96          Geox                  Rs. 13990   \n",
       "97          97     J.FONTINI                   Rs. 7990   \n",
       "98          98          Geox                   Rs. 9990   \n",
       "99          99        Clarks                   Rs. 9999   \n",
       "\n",
       "                            Description  \n",
       "0           Men Go Walk 5 Walking Shoes  \n",
       "1        Men UA Charged Breeze Training  \n",
       "2              Men ENIGMA Running Shoes  \n",
       "3        Women Pegasus 39 Running Shoes  \n",
       "4                     Men Running Shoes  \n",
       "..                                  ...  \n",
       "95  Men GENERATION ZEROGRAND STITCHLITE  \n",
       "96           Men Solid Slip-On Sneakers  \n",
       "97         Men Textured Leather Loafers  \n",
       "98          Men Leather Formal Slip-Ons  \n",
       "99      Men Solid Formal Leather Derbys  \n",
       "\n",
       "[100 rows x 4 columns]"
      ]
     },
     "execution_count": 150,
     "metadata": {},
     "output_type": "execute_result"
    }
   ],
   "source": [
    "Shoe = list(zip(brand[0:100],price[0:100],description[0:100]))\n",
    "df = pd.DataFrame(Shoe, columns=['Brand', 'Price','Description'])\n",
    "df.to_csv('myntra.csv')\n",
    "\n",
    "shoe=pd.read_csv(\"myntra.csv\")\n",
    "\n",
    "shoe"
   ]
  },
  {
   "cell_type": "code",
   "execution_count": 151,
   "id": "87e1fcf2",
   "metadata": {},
   "outputs": [],
   "source": [
    "myntra.close()"
   ]
  },
  {
   "cell_type": "code",
   "execution_count": 82,
   "id": "2ba04770",
   "metadata": {},
   "outputs": [],
   "source": [
    "####### next question"
   ]
  },
  {
   "cell_type": "code",
   "execution_count": 83,
   "id": "94d5f011",
   "metadata": {},
   "outputs": [],
   "source": [
    "##question 8 amazon"
   ]
  },
  {
   "cell_type": "code",
   "execution_count": 84,
   "id": "3e61a01e",
   "metadata": {},
   "outputs": [],
   "source": [
    "amazon=webdriver.Chrome(r\"F:\\chromedriver.exe\")\n",
    "    \n",
    "amazon.get('https://www.amazon.in/')"
   ]
  },
  {
   "cell_type": "code",
   "execution_count": 85,
   "id": "43d1f27c",
   "metadata": {},
   "outputs": [],
   "source": [
    "product=amazon.find_element_by_xpath(\"/html/body/div[1]/header/div/div[1]/div[2]/div/form/div[2]/div[1]/input\")\n",
    "product.send_keys(\"laptop\")"
   ]
  },
  {
   "cell_type": "code",
   "execution_count": 86,
   "id": "9113a9a1",
   "metadata": {},
   "outputs": [],
   "source": [
    "search=amazon.find_element_by_xpath('/html/body/div[1]/header/div/div[1]/div[2]/div/form/div[3]/div/span/input')\n",
    "search.click()"
   ]
  },
  {
   "cell_type": "code",
   "execution_count": 87,
   "id": "f1cc8adb",
   "metadata": {},
   "outputs": [],
   "source": [
    "filter_=amazon.find_element_by_xpath('//*[@id=\"p_n_feature_thirteen_browse-bin/12598163031\"]/span/a/span')\n",
    "filter_.click()"
   ]
  },
  {
   "cell_type": "code",
   "execution_count": 208,
   "id": "18fbbb06",
   "metadata": {},
   "outputs": [],
   "source": [
    "title=[]\n",
    "rating=[]\n",
    "price=[]"
   ]
  },
  {
   "cell_type": "code",
   "execution_count": 209,
   "id": "7bc4c7f0",
   "metadata": {},
   "outputs": [],
   "source": [
    "tag=amazon.find_elements_by_xpath(\"//span[@class='a-size-medium a-color-base a-text-normal']\")\n",
    "for j in tag:\n",
    "    brand=j.text\n",
    "    title.append(brand)"
   ]
  },
  {
   "cell_type": "code",
   "execution_count": 210,
   "id": "52e674fd",
   "metadata": {},
   "outputs": [],
   "source": [
    "price_tag=amazon.find_elements_by_xpath(\"//span[@class='a-price-whole']\")\n",
    "for k in price_tag:\n",
    "        p=k.text\n",
    "        price.append(p)"
   ]
  },
  {
   "cell_type": "code",
   "execution_count": 211,
   "id": "49f2affb",
   "metadata": {},
   "outputs": [],
   "source": [
    "hover=amazon.find_element_by_xpath(\"//a[@class='a-popover-trigger a-declarative']\")\n",
    "hover.click()"
   ]
  },
  {
   "cell_type": "code",
   "execution_count": 212,
   "id": "d62bd9f6",
   "metadata": {},
   "outputs": [
    {
     "name": "stdout",
     "output_type": "stream",
     "text": [
      "\n",
      "\n",
      "\n",
      "\n",
      "\n",
      "\n",
      "\n",
      "\n",
      "\n",
      "4 out of 5\n",
      "\n"
     ]
    }
   ],
   "source": [
    "a=amazon.find_elements_by_xpath(\"//span[@class='a-size-medium a-color-base a-text-beside-button a-text-bold']\")\n",
    "for rate in a:\n",
    "    print(rate.text)\n",
    "    rating.append(rate.text)"
   ]
  },
  {
   "cell_type": "code",
   "execution_count": 214,
   "id": "9226c881",
   "metadata": {},
   "outputs": [],
   "source": [
    "hover=amazon.find_element_by_xpath('//*[@id=\"search\"]/div[1]/div[1]/div/span[3]/div[2]/div[3]/div/div/div/div/div/div[2]/div/div/div[2]/div/span[1]/span/a')\n",
    "hover.click()"
   ]
  },
  {
   "cell_type": "code",
   "execution_count": 215,
   "id": "44c753f4",
   "metadata": {},
   "outputs": [
    {
     "name": "stdout",
     "output_type": "stream",
     "text": [
      "\n",
      "4.3 out of 5\n",
      "\n",
      "\n",
      "\n",
      "\n",
      "\n",
      "\n",
      "\n",
      "\n",
      "\n"
     ]
    }
   ],
   "source": [
    "a=amazon.find_elements_by_xpath(\"//span[@class='a-size-medium a-color-base a-text-beside-button a-text-bold']\")\n",
    "for rate in a:\n",
    "    print(rate.text)\n",
    "    rating.append(rate.text)"
   ]
  },
  {
   "cell_type": "code",
   "execution_count": 218,
   "id": "edcff241",
   "metadata": {},
   "outputs": [],
   "source": [
    "# 3rd laptop rating\n",
    "hover=amazon.find_element_by_xpath('//*[@id=\"search\"]/div[1]/div[1]/div/span[3]/div[2]/div[4]/div/div/div/div/div/div[2]/div/div/div[2]/div/span[1]/span/a')\n",
    "hover.click()"
   ]
  },
  {
   "cell_type": "code",
   "execution_count": 219,
   "id": "e334b547",
   "metadata": {},
   "outputs": [
    {
     "name": "stdout",
     "output_type": "stream",
     "text": [
      "\n",
      "\n",
      "3.1 out of 5\n",
      "\n",
      "\n",
      "\n",
      "\n",
      "\n",
      "\n",
      "\n",
      "\n"
     ]
    }
   ],
   "source": [
    "description_tag=amazon.find_elements_by_xpath(\"//span[@class='a-size-medium a-color-base a-text-beside-button a-text-bold']\")\n",
    "for l in description_tag:\n",
    "    print(l.text)\n",
    "    rating.append(l.text)"
   ]
  },
  {
   "cell_type": "code",
   "execution_count": 222,
   "id": "4ed439b4",
   "metadata": {},
   "outputs": [],
   "source": [
    "# 4th laptop rating\n",
    "hover=amazon.find_element_by_xpath('//*[@id=\"search\"]/div[1]/div[1]/div/span[3]/div[2]/div[6]/div/div/div/div/div/div[2]/div/div/div[2]/div/span[1]/span/a')\n",
    "hover.click()"
   ]
  },
  {
   "cell_type": "code",
   "execution_count": 223,
   "id": "e2a6dbc9",
   "metadata": {},
   "outputs": [],
   "source": [
    "description_tag=amazon.find_elements_by_xpath(\"//span[@class='a-size-medium a-color-base a-text-beside-button a-text-bold']\")\n",
    "for l in description_tag:\n",
    "    rating.append(l.text)"
   ]
  },
  {
   "cell_type": "code",
   "execution_count": 224,
   "id": "0d5d034f",
   "metadata": {},
   "outputs": [],
   "source": [
    "# 5th laptop rating\n",
    "hover=amazon.find_element_by_xpath('//*[@id=\"search\"]/div[1]/div[1]/div/span[3]/div[2]/div[7]/div/div/div/div/div/div[2]/div/div/div[2]/div/span[1]/span/a')\n",
    "hover.click()"
   ]
  },
  {
   "cell_type": "code",
   "execution_count": 225,
   "id": "c3012b12",
   "metadata": {},
   "outputs": [
    {
     "name": "stdout",
     "output_type": "stream",
     "text": [
      "\n",
      "\n",
      "\n",
      "\n",
      "4.5 out of 5\n",
      "\n",
      "\n",
      "\n",
      "\n",
      "\n",
      "\n"
     ]
    }
   ],
   "source": [
    "description_tag=amazon.find_elements_by_xpath(\"//span[@class='a-size-medium a-color-base a-text-beside-button a-text-bold']\")\n",
    "for l in description_tag:\n",
    "    print(l.text)\n",
    "    rating.append(l.text)"
   ]
  },
  {
   "cell_type": "code",
   "execution_count": 228,
   "id": "46191cfe",
   "metadata": {},
   "outputs": [],
   "source": [
    "# 6th laptop rating\n",
    "hover=amazon.find_element_by_xpath('//*[@id=\"search\"]/div[1]/div[1]/div/span[3]/div[2]/div[8]/div/div/div/div/div/div[2]/div/div/div[2]/div/span[1]/span/a')\n",
    "hover.click()"
   ]
  },
  {
   "cell_type": "code",
   "execution_count": 229,
   "id": "48b7f7be",
   "metadata": {},
   "outputs": [
    {
     "name": "stdout",
     "output_type": "stream",
     "text": [
      "\n",
      "\n",
      "\n",
      "\n",
      "\n",
      "4.2 out of 5\n",
      "\n",
      "\n",
      "\n",
      "\n",
      "\n"
     ]
    }
   ],
   "source": [
    "description_tag=amazon.find_elements_by_xpath(\"//span[@class='a-size-medium a-color-base a-text-beside-button a-text-bold']\")\n",
    "for l in description_tag:\n",
    "    print(l.text)\n",
    "    rating.append(l.text)"
   ]
  },
  {
   "cell_type": "code",
   "execution_count": 230,
   "id": "d558322f",
   "metadata": {},
   "outputs": [],
   "source": [
    "# 7th laptop rating\n",
    "hover=amazon.find_element_by_xpath('//*[@id=\"search\"]/div[1]/div[1]/div/span[3]/div[2]/div[9]/div/div/div/div/div/div[2]/div/div/div[2]/div/span[1]/span/a')\n",
    "hover.click()"
   ]
  },
  {
   "cell_type": "code",
   "execution_count": 231,
   "id": "71fb1c97",
   "metadata": {},
   "outputs": [
    {
     "name": "stdout",
     "output_type": "stream",
     "text": [
      "\n",
      "\n",
      "\n",
      "\n",
      "\n",
      "\n",
      "\n",
      "\n",
      "\n",
      "\n",
      "3.5 out of 5\n"
     ]
    }
   ],
   "source": [
    "description_tag=amazon.find_elements_by_xpath(\"//span[@class='a-size-medium a-color-base a-text-beside-button a-text-bold']\")\n",
    "for l in description_tag:\n",
    "    rating.append(l.text)\n",
    "    print(l.text)"
   ]
  },
  {
   "cell_type": "code",
   "execution_count": 232,
   "id": "755c17a3",
   "metadata": {},
   "outputs": [],
   "source": [
    "# 8th laptop rating\n",
    "hover=amazon.find_element_by_xpath('//*[@id=\"search\"]/div[1]/div[1]/div/span[3]/div[2]/div[10]/div/div/div/div/div/div[2]/div/div/div[2]/div/span[1]/span/a')\n",
    "hover.click()"
   ]
  },
  {
   "cell_type": "code",
   "execution_count": 233,
   "id": "d739eeec",
   "metadata": {},
   "outputs": [],
   "source": [
    "\n",
    "description_tag=amazon.find_elements_by_xpath(\"//span[@class='a-size-medium a-color-base a-text-beside-button a-text-bold']\")\n",
    "for l in description_tag:\n",
    "    rating.append(l.text)"
   ]
  },
  {
   "cell_type": "code",
   "execution_count": 235,
   "id": "92666f80",
   "metadata": {},
   "outputs": [],
   "source": [
    "# 9th laptop rating\n",
    "hover=amazon.find_element_by_xpath('//*[@id=\"search\"]/div[1]/div[1]/div/span[3]/div[2]/div[11]/div/div/div/div/div/div[2]/div/div/div[2]/div/span[1]/span/a')\n",
    "hover.click()"
   ]
  },
  {
   "cell_type": "code",
   "execution_count": 236,
   "id": "a023cc1c",
   "metadata": {},
   "outputs": [
    {
     "name": "stdout",
     "output_type": "stream",
     "text": [
      "\n",
      "\n",
      "\n",
      "\n",
      "\n",
      "\n",
      "\n",
      "4.3 out of 5\n",
      "\n",
      "\n",
      "\n"
     ]
    }
   ],
   "source": [
    "\n",
    "description_tag=amazon.find_elements_by_xpath(\"//span[@class='a-size-medium a-color-base a-text-beside-button a-text-bold']\")\n",
    "for l in description_tag:\n",
    "    rating.append(l.text)\n",
    "    print(l.text)"
   ]
  },
  {
   "cell_type": "code",
   "execution_count": 237,
   "id": "ba4ff0e8",
   "metadata": {},
   "outputs": [],
   "source": [
    "# 10th laptop rating\n",
    "hover=amazon.find_element_by_xpath('//*[@id=\"search\"]/div[1]/div[1]/div/span[3]/div[2]/div[12]/div/div/div/div/div/div[2]/div/div/div[2]/div/span[1]/span/a')\n",
    "hover.click()"
   ]
  },
  {
   "cell_type": "code",
   "execution_count": 238,
   "id": "dfa243c5",
   "metadata": {},
   "outputs": [],
   "source": [
    "\n",
    "description_tag=amazon.find_elements_by_xpath(\"//span[@class='a-size-medium a-color-base a-text-beside-button a-text-bold']\")\n",
    "for l in description_tag:\n",
    "    rating.append(l.text)"
   ]
  },
  {
   "cell_type": "code",
   "execution_count": 242,
   "id": "13b7a979",
   "metadata": {},
   "outputs": [
    {
     "name": "stdout",
     "output_type": "stream",
     "text": [
      "0\n",
      "\n",
      "1\n",
      "\n",
      "2\n",
      "\n",
      "3\n",
      "\n",
      "4\n",
      "\n",
      "5\n",
      "\n",
      "6\n",
      "\n",
      "7\n",
      "\n",
      "8\n",
      "\n",
      "9\n",
      "4 out of 5\n",
      "10\n",
      "\n",
      "11\n",
      "\n",
      "12\n",
      "4.3 out of 5\n",
      "13\n",
      "\n",
      "14\n",
      "\n",
      "15\n",
      "\n",
      "16\n",
      "\n",
      "17\n",
      "\n",
      "18\n",
      "\n",
      "19\n",
      "\n",
      "20\n",
      "\n",
      "21\n",
      "\n",
      "22\n",
      "\n",
      "23\n",
      "\n",
      "24\n",
      "\n",
      "25\n",
      "\n",
      "26\n",
      "\n",
      "27\n",
      "\n",
      "28\n",
      "\n",
      "29\n",
      "\n",
      "30\n",
      "\n",
      "31\n",
      "\n",
      "32\n",
      "\n",
      "33\n",
      "\n",
      "34\n",
      "3.1 out of 5\n",
      "35\n",
      "\n",
      "36\n",
      "\n",
      "37\n",
      "\n",
      "38\n",
      "\n",
      "39\n",
      "\n",
      "40\n",
      "\n",
      "41\n",
      "\n",
      "42\n",
      "\n",
      "43\n",
      "\n",
      "44\n",
      "\n",
      "45\n",
      "\n",
      "46\n",
      "4.5 out of 5\n",
      "47\n",
      "\n",
      "48\n",
      "\n",
      "49\n",
      "\n",
      "50\n",
      "\n",
      "51\n",
      "\n",
      "52\n",
      "\n",
      "53\n",
      "\n",
      "54\n",
      "\n",
      "55\n",
      "\n",
      "56\n",
      "\n",
      "57\n",
      "\n",
      "58\n",
      "4.5 out of 5\n",
      "59\n",
      "\n",
      "60\n",
      "\n",
      "61\n",
      "\n",
      "62\n",
      "\n",
      "63\n",
      "\n",
      "64\n",
      "\n",
      "65\n",
      "\n",
      "66\n",
      "\n",
      "67\n",
      "\n",
      "68\n",
      "\n",
      "69\n",
      "\n",
      "70\n",
      "\n",
      "71\n",
      "\n",
      "72\n",
      "\n",
      "73\n",
      "\n",
      "74\n",
      "\n",
      "75\n",
      "\n",
      "76\n",
      "\n",
      "77\n",
      "\n",
      "78\n",
      "\n",
      "79\n",
      "\n",
      "80\n",
      "4.2 out of 5\n",
      "81\n",
      "\n",
      "82\n",
      "\n",
      "83\n",
      "\n",
      "84\n",
      "\n",
      "85\n",
      "\n",
      "86\n",
      "\n",
      "87\n",
      "\n",
      "88\n",
      "\n",
      "89\n",
      "\n",
      "90\n",
      "\n",
      "91\n",
      "\n",
      "92\n",
      "\n",
      "93\n",
      "\n",
      "94\n",
      "\n",
      "95\n",
      "\n",
      "96\n",
      "3.5 out of 5\n",
      "97\n",
      "\n",
      "98\n",
      "\n",
      "99\n",
      "\n",
      "100\n",
      "\n",
      "101\n",
      "\n",
      "102\n",
      "\n",
      "103\n",
      "3.7 out of 5\n",
      "104\n",
      "\n",
      "105\n",
      "\n",
      "106\n",
      "\n",
      "107\n",
      "\n",
      "108\n",
      "\n",
      "109\n",
      "\n",
      "110\n",
      "\n",
      "111\n",
      "\n",
      "112\n",
      "\n",
      "113\n",
      "\n",
      "114\n",
      "\n",
      "115\n",
      "4.3 out of 5\n",
      "116\n",
      "\n",
      "117\n",
      "\n",
      "118\n",
      "\n",
      "119\n",
      "\n",
      "120\n",
      "\n",
      "121\n",
      "\n",
      "122\n",
      "\n",
      "123\n",
      "\n",
      "124\n",
      "\n",
      "125\n",
      "\n",
      "126\n",
      "\n",
      "127\n",
      "5 out of 5\n",
      "128\n",
      "\n",
      "129\n",
      "\n"
     ]
    }
   ],
   "source": [
    "for i in range(len(rating)):\n",
    "    print(i)\n",
    "    print(rating[i])"
   ]
  },
  {
   "cell_type": "code",
   "execution_count": 243,
   "id": "36b67e87",
   "metadata": {},
   "outputs": [
    {
     "data": {
      "text/plain": [
       "['4 out of 5',\n",
       " '4.3 out of 5',\n",
       " '3.1 out of 5',\n",
       " '4.5 out of 5',\n",
       " '4.5 out of 5',\n",
       " '4.2 out of 5',\n",
       " '3.5 out of 5',\n",
       " '3.7 out of 5',\n",
       " '4.3 out of 5',\n",
       " '5 out of 5']"
      ]
     },
     "execution_count": 243,
     "metadata": {},
     "output_type": "execute_result"
    }
   ],
   "source": [
    "Rating=[]\n",
    "list1=[9,12,34,46,58,80,96,103,115,127]\n",
    "for i in list1:\n",
    "    Rating.append(rating[i])\n",
    "    \n",
    "Rating"
   ]
  },
  {
   "cell_type": "code",
   "execution_count": 244,
   "id": "44be2211",
   "metadata": {},
   "outputs": [
    {
     "data": {
      "text/html": [
       "<div>\n",
       "<style scoped>\n",
       "    .dataframe tbody tr th:only-of-type {\n",
       "        vertical-align: middle;\n",
       "    }\n",
       "\n",
       "    .dataframe tbody tr th {\n",
       "        vertical-align: top;\n",
       "    }\n",
       "\n",
       "    .dataframe thead th {\n",
       "        text-align: right;\n",
       "    }\n",
       "</style>\n",
       "<table border=\"1\" class=\"dataframe\">\n",
       "  <thead>\n",
       "    <tr style=\"text-align: right;\">\n",
       "      <th></th>\n",
       "      <th>Unnamed: 0</th>\n",
       "      <th>Brand</th>\n",
       "      <th>Price</th>\n",
       "      <th>Rating</th>\n",
       "    </tr>\n",
       "  </thead>\n",
       "  <tbody>\n",
       "    <tr>\n",
       "      <th>0</th>\n",
       "      <td>0</td>\n",
       "      <td>Lenovo IdeaPad 5 Pro 11th Gen Intel Core i7 14...</td>\n",
       "      <td>75,309</td>\n",
       "      <td>4 out of 5</td>\n",
       "    </tr>\n",
       "    <tr>\n",
       "      <th>1</th>\n",
       "      <td>1</td>\n",
       "      <td>ASUS VivoBook 14 (2021), 14-inch (35.56 cms) F...</td>\n",
       "      <td>57,490</td>\n",
       "      <td>4.3 out of 5</td>\n",
       "    </tr>\n",
       "    <tr>\n",
       "      <th>2</th>\n",
       "      <td>2</td>\n",
       "      <td>Samsung Galaxy Book2 Intel 12th Gen core i7 39...</td>\n",
       "      <td>79,990</td>\n",
       "      <td>3.1 out of 5</td>\n",
       "    </tr>\n",
       "    <tr>\n",
       "      <th>3</th>\n",
       "      <td>3</td>\n",
       "      <td>LG Gram 17 Intel Evo 11th Gen i7 Thin &amp; Light ...</td>\n",
       "      <td>88,490</td>\n",
       "      <td>4.5 out of 5</td>\n",
       "    </tr>\n",
       "    <tr>\n",
       "      <th>4</th>\n",
       "      <td>4</td>\n",
       "      <td>ASUS TUF Gaming F15 (2021), 15.6\" (39.62 cms) ...</td>\n",
       "      <td>83,990</td>\n",
       "      <td>4.5 out of 5</td>\n",
       "    </tr>\n",
       "    <tr>\n",
       "      <th>5</th>\n",
       "      <td>5</td>\n",
       "      <td>Lenovo IdeaPad Flex 5 11th Gen Intel Core i7 1...</td>\n",
       "      <td>81,490</td>\n",
       "      <td>4.2 out of 5</td>\n",
       "    </tr>\n",
       "    <tr>\n",
       "      <th>6</th>\n",
       "      <td>6</td>\n",
       "      <td>HP Pavilion 15 12th Gen Intel Core i7 16GB SDR...</td>\n",
       "      <td>89,791</td>\n",
       "      <td>3.5 out of 5</td>\n",
       "    </tr>\n",
       "    <tr>\n",
       "      <th>7</th>\n",
       "      <td>7</td>\n",
       "      <td>HP Pavilion x360 11th Gen Intel Core i7 14 inc...</td>\n",
       "      <td>84,490</td>\n",
       "      <td>3.7 out of 5</td>\n",
       "    </tr>\n",
       "    <tr>\n",
       "      <th>8</th>\n",
       "      <td>8</td>\n",
       "      <td>LG Gram 14 Intel Evo 11th Gen  i7 Thin &amp; Light...</td>\n",
       "      <td>84,490</td>\n",
       "      <td>4.3 out of 5</td>\n",
       "    </tr>\n",
       "    <tr>\n",
       "      <th>9</th>\n",
       "      <td>9</td>\n",
       "      <td>HP Pavilion 14 12th Gen Intel Core i7 16GB SDR...</td>\n",
       "      <td>86,990</td>\n",
       "      <td>5 out of 5</td>\n",
       "    </tr>\n",
       "  </tbody>\n",
       "</table>\n",
       "</div>"
      ],
      "text/plain": [
       "   Unnamed: 0                                              Brand   Price  \\\n",
       "0           0  Lenovo IdeaPad 5 Pro 11th Gen Intel Core i7 14...  75,309   \n",
       "1           1  ASUS VivoBook 14 (2021), 14-inch (35.56 cms) F...  57,490   \n",
       "2           2  Samsung Galaxy Book2 Intel 12th Gen core i7 39...  79,990   \n",
       "3           3  LG Gram 17 Intel Evo 11th Gen i7 Thin & Light ...  88,490   \n",
       "4           4  ASUS TUF Gaming F15 (2021), 15.6\" (39.62 cms) ...  83,990   \n",
       "5           5  Lenovo IdeaPad Flex 5 11th Gen Intel Core i7 1...  81,490   \n",
       "6           6  HP Pavilion 15 12th Gen Intel Core i7 16GB SDR...  89,791   \n",
       "7           7  HP Pavilion x360 11th Gen Intel Core i7 14 inc...  84,490   \n",
       "8           8  LG Gram 14 Intel Evo 11th Gen  i7 Thin & Light...  84,490   \n",
       "9           9  HP Pavilion 14 12th Gen Intel Core i7 16GB SDR...  86,990   \n",
       "\n",
       "         Rating  \n",
       "0    4 out of 5  \n",
       "1  4.3 out of 5  \n",
       "2  3.1 out of 5  \n",
       "3  4.5 out of 5  \n",
       "4  4.5 out of 5  \n",
       "5  4.2 out of 5  \n",
       "6  3.5 out of 5  \n",
       "7  3.7 out of 5  \n",
       "8  4.3 out of 5  \n",
       "9    5 out of 5  "
      ]
     },
     "execution_count": 244,
     "metadata": {},
     "output_type": "execute_result"
    }
   ],
   "source": [
    "laptop = list(zip(title[0:10],price[0:10],Rating[0:10]))\n",
    "df = pd.DataFrame(laptop, columns=['Brand', 'Price','Rating'])\n",
    "df.to_csv('Laptop.csv')\n",
    "\n",
    "Laptop=pd.read_csv(\"Laptop.csv\")\n",
    "\n",
    "Laptop"
   ]
  },
  {
   "cell_type": "code",
   "execution_count": 81,
   "id": "971ea819",
   "metadata": {},
   "outputs": [],
   "source": [
    "amazon.close()"
   ]
  },
  {
   "cell_type": "code",
   "execution_count": null,
   "id": "95e43b36",
   "metadata": {},
   "outputs": [],
   "source": [
    "# next question"
   ]
  },
  {
   "cell_type": "code",
   "execution_count": 1,
   "id": "500cb58e",
   "metadata": {},
   "outputs": [],
   "source": [
    "### question 9 Ambition Box"
   ]
  },
  {
   "cell_type": "code",
   "execution_count": 2,
   "id": "f283a9c8",
   "metadata": {},
   "outputs": [],
   "source": [
    "ambition=webdriver.Chrome(r\"F:\\chromedriver.exe\")\n",
    "    \n",
    "ambition.get('https://www.ambitionbox.com/')"
   ]
  },
  {
   "cell_type": "code",
   "execution_count": 3,
   "id": "a5d43d4c",
   "metadata": {},
   "outputs": [],
   "source": [
    "Job=ambition.find_element_by_xpath(\"//a[@class='link jobs']\")\n",
    "Job.click()"
   ]
  },
  {
   "cell_type": "code",
   "execution_count": 4,
   "id": "93500ef8",
   "metadata": {},
   "outputs": [],
   "source": [
    "product=ambition.find_element_by_xpath(\"/html/body/div/div/div/div[2]/div[1]/div[1]/div/div/div/div/span/input\")\n",
    "product.send_keys(\"Data Scientist\")"
   ]
  },
  {
   "cell_type": "code",
   "execution_count": 5,
   "id": "6f44f1b1",
   "metadata": {},
   "outputs": [],
   "source": [
    "search=ambition.find_element_by_xpath(\"/html/body/div/div/div/div[2]/div[1]/div[1]/div/div/div/button\")\n",
    "search.click()"
   ]
  },
  {
   "cell_type": "code",
   "execution_count": 6,
   "id": "1a5ba6b9",
   "metadata": {},
   "outputs": [],
   "source": [
    "Location=ambition.find_element_by_xpath(\"/html/body/div/div/div/div[2]/div[1]/div[2]/div[1]/div/div/div/div[2]/div[1]/p\")\n",
    "Location.click()"
   ]
  },
  {
   "cell_type": "code",
   "execution_count": 7,
   "id": "f8d51df1",
   "metadata": {},
   "outputs": [],
   "source": [
    "product=ambition.find_element_by_xpath(\"/html/body/div/div/div/div[2]/div[1]/div[2]/div[1]/div/div/div/div[2]/div[2]/div/div[2]/input\")\n",
    "product.send_keys(\"Noida\")"
   ]
  },
  {
   "cell_type": "code",
   "execution_count": 8,
   "id": "a90d211b",
   "metadata": {},
   "outputs": [],
   "source": [
    "Location=ambition.find_element_by_xpath(\"/html/body/div/div/div/div[2]/div[1]/div[2]/div[1]/div/div/div/div[2]/div[2]/div/div[3]/div[1]/div[1]/div/label\")\n",
    "Location.click()"
   ]
  },
  {
   "cell_type": "code",
   "execution_count": 21,
   "id": "e5ee6eb5",
   "metadata": {},
   "outputs": [],
   "source": [
    "Name=[]\n",
    "rating=[]\n",
    "Days=[]\n",
    "Job_role=[]"
   ]
  },
  {
   "cell_type": "code",
   "execution_count": 22,
   "id": "96fd23ac",
   "metadata": {},
   "outputs": [],
   "source": [
    "brand_tag=ambition.find_elements_by_xpath(\"//p[@class='company body-medium']\")\n",
    "for j in brand_tag:\n",
    "    brand=j.text\n",
    "    Name.append(brand)"
   ]
  },
  {
   "cell_type": "code",
   "execution_count": 24,
   "id": "34f04bc4",
   "metadata": {},
   "outputs": [],
   "source": [
    "Job_role_tag=ambition.find_elements_by_xpath(\"//a[@class='title noclick']\")\n",
    "for job in Job_role_tag:\n",
    "    brand=job.text\n",
    "    Job_role.append(brand)"
   ]
  },
  {
   "cell_type": "code",
   "execution_count": 29,
   "id": "e2aa69bb",
   "metadata": {},
   "outputs": [],
   "source": [
    "days_ago=ambition.find_elements_by_xpath(\"//span[@class='body-small-l']\")\n",
    "for k in days_ago:\n",
    "        p=k.text\n",
    "        Days.append(p)"
   ]
  },
  {
   "cell_type": "code",
   "execution_count": 36,
   "id": "63adcb1a",
   "metadata": {},
   "outputs": [],
   "source": [
    "day=[]\n",
    "for length in range(10):\n",
    "    day.append(Days[2*length])"
   ]
  },
  {
   "cell_type": "code",
   "execution_count": 31,
   "id": "b2078886",
   "metadata": {},
   "outputs": [],
   "source": [
    "Ratings=ambition.find_elements_by_xpath(\"//span[@class='body-small']\")\n",
    "for k in Ratings:\n",
    "        p=k.text\n",
    "        rating.append(p)"
   ]
  },
  {
   "cell_type": "code",
   "execution_count": 37,
   "id": "97ea3492",
   "metadata": {},
   "outputs": [
    {
     "data": {
      "text/html": [
       "<div>\n",
       "<style scoped>\n",
       "    .dataframe tbody tr th:only-of-type {\n",
       "        vertical-align: middle;\n",
       "    }\n",
       "\n",
       "    .dataframe tbody tr th {\n",
       "        vertical-align: top;\n",
       "    }\n",
       "\n",
       "    .dataframe thead th {\n",
       "        text-align: right;\n",
       "    }\n",
       "</style>\n",
       "<table border=\"1\" class=\"dataframe\">\n",
       "  <thead>\n",
       "    <tr style=\"text-align: right;\">\n",
       "      <th></th>\n",
       "      <th>Unnamed: 0</th>\n",
       "      <th>Company</th>\n",
       "      <th>Rating</th>\n",
       "      <th>Posted</th>\n",
       "      <th>Job Title</th>\n",
       "    </tr>\n",
       "  </thead>\n",
       "  <tbody>\n",
       "    <tr>\n",
       "      <th>0</th>\n",
       "      <td>0</td>\n",
       "      <td>GENPACT India Private Limited</td>\n",
       "      <td>4.0</td>\n",
       "      <td>6d ago</td>\n",
       "      <td>Data Scientist</td>\n",
       "    </tr>\n",
       "    <tr>\n",
       "      <th>1</th>\n",
       "      <td>1</td>\n",
       "      <td>Optum Global Solutions (India) Private Limited</td>\n",
       "      <td>4.2</td>\n",
       "      <td>13d ago</td>\n",
       "      <td>Senior Data Scientist</td>\n",
       "    </tr>\n",
       "    <tr>\n",
       "      <th>2</th>\n",
       "      <td>2</td>\n",
       "      <td>GENPACT India Private Limited</td>\n",
       "      <td>4.0</td>\n",
       "      <td>12d ago</td>\n",
       "      <td>Data Scientist -Machine Learning with Python</td>\n",
       "    </tr>\n",
       "    <tr>\n",
       "      <th>3</th>\n",
       "      <td>3</td>\n",
       "      <td>Hcl Technologies Limited</td>\n",
       "      <td>3.9</td>\n",
       "      <td>16d ago</td>\n",
       "      <td>Data Scientist - OIP</td>\n",
       "    </tr>\n",
       "    <tr>\n",
       "      <th>4</th>\n",
       "      <td>4</td>\n",
       "      <td>EXL Services.com ( I ) Pvt. Ltd.</td>\n",
       "      <td>3.9</td>\n",
       "      <td>26d ago</td>\n",
       "      <td>Data Scientist- AI/ML- R&amp;D</td>\n",
       "    </tr>\n",
       "    <tr>\n",
       "      <th>5</th>\n",
       "      <td>5</td>\n",
       "      <td>Paytm</td>\n",
       "      <td>3.7</td>\n",
       "      <td>8d ago</td>\n",
       "      <td>Data Science - Lead Data Scientist</td>\n",
       "    </tr>\n",
       "    <tr>\n",
       "      <th>6</th>\n",
       "      <td>6</td>\n",
       "      <td>Om Software Internet Solutions Private Limited</td>\n",
       "      <td>4.5</td>\n",
       "      <td>17d ago</td>\n",
       "      <td>Data Scientist (Python) Immediate Joiners</td>\n",
       "    </tr>\n",
       "    <tr>\n",
       "      <th>7</th>\n",
       "      <td>7</td>\n",
       "      <td>Paytm</td>\n",
       "      <td>3.7</td>\n",
       "      <td>26d ago</td>\n",
       "      <td>Data Scientist - Associate Vice President</td>\n",
       "    </tr>\n",
       "    <tr>\n",
       "      <th>8</th>\n",
       "      <td>8</td>\n",
       "      <td>MOTHERSONSUMI INFOTECH &amp; DESIGNS LIMITED</td>\n",
       "      <td>3.3</td>\n",
       "      <td>14d ago</td>\n",
       "      <td>Data Scientist - MIND Infotech</td>\n",
       "    </tr>\n",
       "    <tr>\n",
       "      <th>9</th>\n",
       "      <td>9</td>\n",
       "      <td>Ashkom Media India Private Limited</td>\n",
       "      <td>3.5</td>\n",
       "      <td>12d ago</td>\n",
       "      <td>Data Scientist</td>\n",
       "    </tr>\n",
       "  </tbody>\n",
       "</table>\n",
       "</div>"
      ],
      "text/plain": [
       "   Unnamed: 0                                         Company  Rating  \\\n",
       "0           0                   GENPACT India Private Limited     4.0   \n",
       "1           1  Optum Global Solutions (India) Private Limited     4.2   \n",
       "2           2                   GENPACT India Private Limited     4.0   \n",
       "3           3                        Hcl Technologies Limited     3.9   \n",
       "4           4                EXL Services.com ( I ) Pvt. Ltd.     3.9   \n",
       "5           5                                           Paytm     3.7   \n",
       "6           6  Om Software Internet Solutions Private Limited     4.5   \n",
       "7           7                                           Paytm     3.7   \n",
       "8           8        MOTHERSONSUMI INFOTECH & DESIGNS LIMITED     3.3   \n",
       "9           9              Ashkom Media India Private Limited     3.5   \n",
       "\n",
       "    Posted                                     Job Title  \n",
       "0   6d ago                                Data Scientist  \n",
       "1  13d ago                         Senior Data Scientist  \n",
       "2  12d ago  Data Scientist -Machine Learning with Python  \n",
       "3  16d ago                          Data Scientist - OIP  \n",
       "4  26d ago                    Data Scientist- AI/ML- R&D  \n",
       "5   8d ago            Data Science - Lead Data Scientist  \n",
       "6  17d ago     Data Scientist (Python) Immediate Joiners  \n",
       "7  26d ago     Data Scientist - Associate Vice President  \n",
       "8  14d ago                Data Scientist - MIND Infotech  \n",
       "9  12d ago                                Data Scientist  "
      ]
     },
     "execution_count": 37,
     "metadata": {},
     "output_type": "execute_result"
    }
   ],
   "source": [
    "\n",
    "Job = list(zip(Name[0:10],rating[0:10],day[0:10],Job_role[0:10]))\n",
    "df = pd.DataFrame(Job, columns=['Company','Rating','Posted','Job Title'])\n",
    "df.to_csv('Data_science.csv')\n",
    "\n",
    "Job=pd.read_csv(\"Data_science.csv\")\n",
    "\n",
    "Job"
   ]
  },
  {
   "cell_type": "code",
   "execution_count": null,
   "id": "e3e36610",
   "metadata": {},
   "outputs": [],
   "source": [
    "ambition.close()"
   ]
  },
  {
   "cell_type": "code",
   "execution_count": null,
   "id": "51cd87cd",
   "metadata": {},
   "outputs": [],
   "source": [
    "# next question"
   ]
  },
  {
   "cell_type": "code",
   "execution_count": 29,
   "id": "4fe6d7bd",
   "metadata": {},
   "outputs": [],
   "source": [
    "### question 10 ambition _Salary comparision"
   ]
  },
  {
   "cell_type": "code",
   "execution_count": 43,
   "id": "b9d1af97",
   "metadata": {},
   "outputs": [],
   "source": [
    "ambition=webdriver.Chrome(r\"F:\\chromedriver.exe\")\n",
    "    \n",
    "ambition.get('https://www.ambitionbox.com/')"
   ]
  },
  {
   "cell_type": "code",
   "execution_count": 44,
   "id": "c011f1b8",
   "metadata": {},
   "outputs": [],
   "source": [
    "salary=ambition.find_element_by_xpath(\"/html/body/div[1]/nav/nav/a[4]\")\n",
    "salary.click()"
   ]
  },
  {
   "cell_type": "code",
   "execution_count": 45,
   "id": "e122f364",
   "metadata": {},
   "outputs": [],
   "source": [
    "product=ambition.find_element_by_xpath(\"/html/body/div/div/div/main/section[1]/div[2]/div[1]/span/input\")\n",
    "product.send_keys(\"Data Scientist\")"
   ]
  },
  {
   "cell_type": "code",
   "execution_count": 46,
   "id": "ce53cbc4",
   "metadata": {},
   "outputs": [],
   "source": [
    "search=ambition.find_element_by_xpath(\"/html/body/div/div/div/main/section[1]/div[2]/div[1]/span/div/div/div[1]/div/div/p\")\n",
    "search.click()"
   ]
  },
  {
   "cell_type": "code",
   "execution_count": 63,
   "id": "3f2cdfee",
   "metadata": {},
   "outputs": [],
   "source": [
    "Name=[]\n",
    "average=[]\n",
    "maximum=[]\n",
    "minimum=[]\n",
    "experience=[]\n",
    "record=[]"
   ]
  },
  {
   "cell_type": "code",
   "execution_count": 64,
   "id": "d505ca10",
   "metadata": {},
   "outputs": [],
   "source": [
    "average_tag=ambition.find_elements_by_xpath(\"//p[@class='averageCtc']\")\n",
    "for j in average_tag:\n",
    "    a=j.text\n",
    "    average.append(a)"
   ]
  },
  {
   "cell_type": "code",
   "execution_count": 65,
   "id": "3b7dc2f5",
   "metadata": {},
   "outputs": [],
   "source": [
    "salary=[]\n",
    "salary_tag=ambition.find_elements_by_xpath(\"//div[@class='value body-medium']\")\n",
    "for j in salary_tag:\n",
    "    b=j.text\n",
    "    salary.append(b)"
   ]
  },
  {
   "cell_type": "code",
   "execution_count": 66,
   "id": "4a689a89",
   "metadata": {},
   "outputs": [],
   "source": [
    "for i in range(len(salary)):\n",
    "    a=salary[i]\n",
    "    if i%2==0:\n",
    "        minimum.append(a)\n",
    "    elif i%2==1:\n",
    "        maximum.append(a)"
   ]
  },
  {
   "cell_type": "code",
   "execution_count": 67,
   "id": "02c70205",
   "metadata": {},
   "outputs": [],
   "source": [
    "values=[]\n",
    "tag=ambition.find_elements_by_xpath(\"//div[@class='salaries sbold-list-header']\")\n",
    "for j in tag:\n",
    "    d=j.text\n",
    "    values.append(d)"
   ]
  },
  {
   "cell_type": "code",
   "execution_count": 68,
   "id": "8d95fdb0",
   "metadata": {},
   "outputs": [],
   "source": [
    "for i in range(10):\n",
    "    values[i]=values[i].split(\"\\n\")"
   ]
  },
  {
   "cell_type": "code",
   "execution_count": 69,
   "id": "3b3fd42c",
   "metadata": {},
   "outputs": [],
   "source": [
    "for i in range(10):\n",
    "    experience.append(values[i][2])"
   ]
  },
  {
   "cell_type": "code",
   "execution_count": 70,
   "id": "6408832b",
   "metadata": {},
   "outputs": [],
   "source": [
    "company=[]\n",
    "company_tag=ambition.find_elements_by_xpath(\"//div[@class='name']\")\n",
    "for j in company_tag:\n",
    "    d=j.text\n",
    "    company.append(d)\n",
    "for i in range(10):\n",
    "    company[i]=company[i].split(\"\\n\")"
   ]
  },
  {
   "cell_type": "code",
   "execution_count": 71,
   "id": "ffa60fa1",
   "metadata": {},
   "outputs": [],
   "source": [
    "for i in range(10):\n",
    "    Name.append(company[i][0])"
   ]
  },
  {
   "cell_type": "code",
   "execution_count": 73,
   "id": "eff93856",
   "metadata": {},
   "outputs": [],
   "source": [
    "record_tag=ambition.find_elements_by_xpath(\"//div[@class='name']/span\")\n",
    "for j in record_tag:\n",
    "    e=j.text\n",
    "    record.append(e)"
   ]
  },
  {
   "cell_type": "code",
   "execution_count": 74,
   "id": "6c357a84",
   "metadata": {},
   "outputs": [
    {
     "data": {
      "text/html": [
       "<div>\n",
       "<style scoped>\n",
       "    .dataframe tbody tr th:only-of-type {\n",
       "        vertical-align: middle;\n",
       "    }\n",
       "\n",
       "    .dataframe tbody tr th {\n",
       "        vertical-align: top;\n",
       "    }\n",
       "\n",
       "    .dataframe thead th {\n",
       "        text-align: right;\n",
       "    }\n",
       "</style>\n",
       "<table border=\"1\" class=\"dataframe\">\n",
       "  <thead>\n",
       "    <tr style=\"text-align: right;\">\n",
       "      <th></th>\n",
       "      <th>Unnamed: 0</th>\n",
       "      <th>Company</th>\n",
       "      <th>Average Salary</th>\n",
       "      <th>Maximum</th>\n",
       "      <th>Minimum</th>\n",
       "      <th>Experience</th>\n",
       "      <th>Based on</th>\n",
       "    </tr>\n",
       "  </thead>\n",
       "  <tbody>\n",
       "    <tr>\n",
       "      <th>0</th>\n",
       "      <td>0</td>\n",
       "      <td>Walmart</td>\n",
       "      <td>₹ 30.2L</td>\n",
       "      <td>₹ 36.0L</td>\n",
       "      <td>₹ 25.0L</td>\n",
       "      <td>3 yrs exp</td>\n",
       "      <td>based on 12 salaries</td>\n",
       "    </tr>\n",
       "    <tr>\n",
       "      <th>1</th>\n",
       "      <td>1</td>\n",
       "      <td>Ab Inbev</td>\n",
       "      <td>₹ 20.6L</td>\n",
       "      <td>₹ 25.5L</td>\n",
       "      <td>₹ 15.0L</td>\n",
       "      <td>3-4 yrs exp</td>\n",
       "      <td>based on 33 salaries</td>\n",
       "    </tr>\n",
       "    <tr>\n",
       "      <th>2</th>\n",
       "      <td>2</td>\n",
       "      <td>American Express</td>\n",
       "      <td>₹ 19.9L</td>\n",
       "      <td>₹ 25.0L</td>\n",
       "      <td>₹ 14.1L</td>\n",
       "      <td>4 yrs exp</td>\n",
       "      <td>based on 10 salaries</td>\n",
       "    </tr>\n",
       "    <tr>\n",
       "      <th>3</th>\n",
       "      <td>3</td>\n",
       "      <td>ZS</td>\n",
       "      <td>₹ 16.7L</td>\n",
       "      <td>₹ 22.0L</td>\n",
       "      <td>₹ 11.0L</td>\n",
       "      <td>2 yrs exp</td>\n",
       "      <td>based on 15 salaries</td>\n",
       "    </tr>\n",
       "    <tr>\n",
       "      <th>4</th>\n",
       "      <td>4</td>\n",
       "      <td>Optum</td>\n",
       "      <td>₹ 16.1L</td>\n",
       "      <td>₹ 22.6L</td>\n",
       "      <td>₹ 11.0L</td>\n",
       "      <td>3-4 yrs exp</td>\n",
       "      <td>based on 33 salaries</td>\n",
       "    </tr>\n",
       "    <tr>\n",
       "      <th>5</th>\n",
       "      <td>5</td>\n",
       "      <td>Reliance Jio</td>\n",
       "      <td>₹ 15.7L</td>\n",
       "      <td>₹ 26.2L</td>\n",
       "      <td>₹ 5.6L</td>\n",
       "      <td>3-4 yrs exp</td>\n",
       "      <td>based on 21 salaries</td>\n",
       "    </tr>\n",
       "    <tr>\n",
       "      <th>6</th>\n",
       "      <td>6</td>\n",
       "      <td>Fractal Analytics</td>\n",
       "      <td>₹ 15.4L</td>\n",
       "      <td>₹ 22.0L</td>\n",
       "      <td>₹ 10.0L</td>\n",
       "      <td>2-4 yrs exp</td>\n",
       "      <td>based on 83 salaries</td>\n",
       "    </tr>\n",
       "    <tr>\n",
       "      <th>7</th>\n",
       "      <td>7</td>\n",
       "      <td>Tiger Analytics</td>\n",
       "      <td>₹ 14.8L</td>\n",
       "      <td>₹ 20.0L</td>\n",
       "      <td>₹ 9.0L</td>\n",
       "      <td>2-4 yrs exp</td>\n",
       "      <td>based on 50 salaries</td>\n",
       "    </tr>\n",
       "    <tr>\n",
       "      <th>8</th>\n",
       "      <td>8</td>\n",
       "      <td>UnitedHealth</td>\n",
       "      <td>₹ 14.0L</td>\n",
       "      <td>₹ 21.1L</td>\n",
       "      <td>₹ 8.3L</td>\n",
       "      <td>2-4 yrs exp</td>\n",
       "      <td>based on 57 salaries</td>\n",
       "    </tr>\n",
       "    <tr>\n",
       "      <th>9</th>\n",
       "      <td>9</td>\n",
       "      <td>EXL Service</td>\n",
       "      <td>₹ 13.3L</td>\n",
       "      <td>₹ 21.0L</td>\n",
       "      <td>₹ 8.9L</td>\n",
       "      <td>4 yrs exp</td>\n",
       "      <td>based on 10 salaries</td>\n",
       "    </tr>\n",
       "  </tbody>\n",
       "</table>\n",
       "</div>"
      ],
      "text/plain": [
       "   Unnamed: 0            Company Average Salary  Maximum  Minimum  \\\n",
       "0           0            Walmart        ₹ 30.2L  ₹ 36.0L  ₹ 25.0L   \n",
       "1           1           Ab Inbev        ₹ 20.6L  ₹ 25.5L  ₹ 15.0L   \n",
       "2           2   American Express        ₹ 19.9L  ₹ 25.0L  ₹ 14.1L   \n",
       "3           3                 ZS        ₹ 16.7L  ₹ 22.0L  ₹ 11.0L   \n",
       "4           4              Optum        ₹ 16.1L  ₹ 22.6L  ₹ 11.0L   \n",
       "5           5       Reliance Jio        ₹ 15.7L  ₹ 26.2L   ₹ 5.6L   \n",
       "6           6  Fractal Analytics        ₹ 15.4L  ₹ 22.0L  ₹ 10.0L   \n",
       "7           7    Tiger Analytics        ₹ 14.8L  ₹ 20.0L   ₹ 9.0L   \n",
       "8           8       UnitedHealth        ₹ 14.0L  ₹ 21.1L   ₹ 8.3L   \n",
       "9           9        EXL Service        ₹ 13.3L  ₹ 21.0L   ₹ 8.9L   \n",
       "\n",
       "    Experience              Based on  \n",
       "0    3 yrs exp  based on 12 salaries  \n",
       "1  3-4 yrs exp  based on 33 salaries  \n",
       "2    4 yrs exp  based on 10 salaries  \n",
       "3    2 yrs exp  based on 15 salaries  \n",
       "4  3-4 yrs exp  based on 33 salaries  \n",
       "5  3-4 yrs exp  based on 21 salaries  \n",
       "6  2-4 yrs exp  based on 83 salaries  \n",
       "7  2-4 yrs exp  based on 50 salaries  \n",
       "8  2-4 yrs exp  based on 57 salaries  \n",
       "9    4 yrs exp  based on 10 salaries  "
      ]
     },
     "execution_count": 74,
     "metadata": {},
     "output_type": "execute_result"
    }
   ],
   "source": [
    "\n",
    "compare = list(zip(Name[0:10],average[0:10],maximum[0:10],minimum[0:10],experience[0:10],record[0:10]))\n",
    "df = pd.DataFrame(compare, columns=['Company','Average Salary','Maximum','Minimum','Experience','Based on'])\n",
    "df.to_csv('Data_science_salary.csv')\n",
    "\n",
    "comaparision=pd.read_csv(\"Data_science_salary.csv\")\n",
    "\n",
    "comaparision"
   ]
  },
  {
   "cell_type": "code",
   "execution_count": 75,
   "id": "1add7a9e",
   "metadata": {},
   "outputs": [],
   "source": [
    "ambition.close()"
   ]
  },
  {
   "cell_type": "code",
   "execution_count": null,
   "id": "3b06d884",
   "metadata": {},
   "outputs": [],
   "source": []
  }
 ],
 "metadata": {
  "kernelspec": {
   "display_name": "Python 3",
   "language": "python",
   "name": "python3"
  },
  "language_info": {
   "codemirror_mode": {
    "name": "ipython",
    "version": 3
   },
   "file_extension": ".py",
   "mimetype": "text/x-python",
   "name": "python",
   "nbconvert_exporter": "python",
   "pygments_lexer": "ipython3",
   "version": "3.8.8"
  }
 },
 "nbformat": 4,
 "nbformat_minor": 5
}
